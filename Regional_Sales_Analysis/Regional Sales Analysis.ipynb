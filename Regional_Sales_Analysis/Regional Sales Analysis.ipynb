{
 "cells": [
  {
   "cell_type": "code",
   "execution_count": 184,
   "id": "40bf92d2-6ee4-4912-a493-5711cbe03f32",
   "metadata": {},
   "outputs": [],
   "source": [
    "#Problem Statement\n",
    "\n",
    "#Companys 2014-2018 sales data to identify key revenue and profit drivers across produts, channels and regions,\n",
    "#uncover seasonal trends and outliers and allign perfomance against budgets. Use these insights to optimize\n",
    "#to optimize pricing and business expansion \n",
    "\n"
   ]
  },
  {
   "cell_type": "code",
   "execution_count": 185,
   "id": "a5dcbe98-cde8-4328-8d91-775d8996d01d",
   "metadata": {},
   "outputs": [],
   "source": [
    "import pandas as pd\n",
    "import numpy as np\n",
    "import matplotlib.pyplot as plt\n",
    "import seaborn as sns"
   ]
  },
  {
   "cell_type": "code",
   "execution_count": 186,
   "id": "1eeee1dd-c272-47b4-895e-ff417c724d02",
   "metadata": {},
   "outputs": [],
   "source": [
    "sheets = pd.read_excel(r'C:\\Python project Regional Sales\\Regional Sales Dataset.xlsx', sheet_name=None)"
   ]
  },
  {
   "cell_type": "code",
   "execution_count": 187,
   "id": "121baa1b-b8e0-4b9d-ba43-35b9e3fb5368",
   "metadata": {},
   "outputs": [],
   "source": [
    "#Assign dataframes names to each sheet\n",
    "df_sales = sheets['Sales Orders']\n",
    "df_customers = sheets['Customers']\n",
    "df_products = sheets['Products']\n",
    "df_regions = sheets['Regions']\n",
    "df_state_regions = sheets['State Regions']\n",
    "df_budgets = sheets['2017 Budgets']\n"
   ]
  },
  {
   "cell_type": "code",
   "execution_count": 188,
   "id": "56cbd0d1-84a1-4508-85c6-4f2d0b5e7782",
   "metadata": {},
   "outputs": [
    {
     "data": {
      "text/html": [
       "<div>\n",
       "<style scoped>\n",
       "    .dataframe tbody tr th:only-of-type {\n",
       "        vertical-align: middle;\n",
       "    }\n",
       "\n",
       "    .dataframe tbody tr th {\n",
       "        vertical-align: top;\n",
       "    }\n",
       "\n",
       "    .dataframe thead th {\n",
       "        text-align: right;\n",
       "    }\n",
       "</style>\n",
       "<table border=\"1\" class=\"dataframe\">\n",
       "  <thead>\n",
       "    <tr style=\"text-align: right;\">\n",
       "      <th></th>\n",
       "      <th>State Code</th>\n",
       "      <th>State</th>\n",
       "      <th>Region</th>\n",
       "    </tr>\n",
       "  </thead>\n",
       "  <tbody>\n",
       "    <tr>\n",
       "      <th>0</th>\n",
       "      <td>AL</td>\n",
       "      <td>Alabama</td>\n",
       "      <td>South</td>\n",
       "    </tr>\n",
       "    <tr>\n",
       "      <th>1</th>\n",
       "      <td>AR</td>\n",
       "      <td>Arkansas</td>\n",
       "      <td>South</td>\n",
       "    </tr>\n",
       "    <tr>\n",
       "      <th>2</th>\n",
       "      <td>AZ</td>\n",
       "      <td>Arizona</td>\n",
       "      <td>West</td>\n",
       "    </tr>\n",
       "    <tr>\n",
       "      <th>3</th>\n",
       "      <td>CA</td>\n",
       "      <td>California</td>\n",
       "      <td>West</td>\n",
       "    </tr>\n",
       "    <tr>\n",
       "      <th>4</th>\n",
       "      <td>CO</td>\n",
       "      <td>Colorado</td>\n",
       "      <td>West</td>\n",
       "    </tr>\n",
       "  </tbody>\n",
       "</table>\n",
       "</div>"
      ],
      "text/plain": [
       "0 State Code       State Region\n",
       "0         AL     Alabama  South\n",
       "1         AR    Arkansas  South\n",
       "2         AZ     Arizona   West\n",
       "3         CA  California   West\n",
       "4         CO    Colorado   West"
      ]
     },
     "execution_count": 188,
     "metadata": {},
     "output_type": "execute_result"
    }
   ],
   "source": [
    "new_header = df_state_regions.iloc[0]\n",
    "df_state_regions.columns = new_header\n",
    "df_state_regions = df_state_regions[1:].reset_index(drop=True)\n",
    "\n",
    "df_state_regions.head(5)"
   ]
  },
  {
   "cell_type": "code",
   "execution_count": 189,
   "id": "d2e06870-76e9-4622-9dd4-ce7a4d292713",
   "metadata": {},
   "outputs": [
    {
     "data": {
      "text/plain": [
       "OrderNumber                  0\n",
       "OrderDate                    0\n",
       "Customer Name Index          0\n",
       "Channel                      0\n",
       "Currency Code                0\n",
       "Warehouse Code               0\n",
       "Delivery Region Index        0\n",
       "Product Description Index    0\n",
       "Order Quantity               0\n",
       "Unit Price                   0\n",
       "Line Total                   0\n",
       "Total Unit Cost              0\n",
       "dtype: int64"
      ]
     },
     "execution_count": 189,
     "metadata": {},
     "output_type": "execute_result"
    }
   ],
   "source": [
    "#check null values for each dataframe\n",
    "df_sales.isnull().sum()"
   ]
  },
  {
   "cell_type": "code",
   "execution_count": 190,
   "id": "73dec360-30cd-43d6-bcb6-e19f322dc7ab",
   "metadata": {},
   "outputs": [],
   "source": [
    "#Data cleaning and Wragling\n",
    "#Merge with customer\n",
    "df= df_sales.merge(df_customers, \n",
    "                   how='left',\n",
    "                   left_on='Customer Name Index',\n",
    "                   right_on='Customer Index'\n",
    "                  )"
   ]
  },
  {
   "cell_type": "code",
   "execution_count": 191,
   "id": "87ec850e-6609-4a81-826b-e2a1c7468c88",
   "metadata": {},
   "outputs": [
    {
     "data": {
      "text/html": [
       "<div>\n",
       "<style scoped>\n",
       "    .dataframe tbody tr th:only-of-type {\n",
       "        vertical-align: middle;\n",
       "    }\n",
       "\n",
       "    .dataframe tbody tr th {\n",
       "        vertical-align: top;\n",
       "    }\n",
       "\n",
       "    .dataframe thead th {\n",
       "        text-align: right;\n",
       "    }\n",
       "</style>\n",
       "<table border=\"1\" class=\"dataframe\">\n",
       "  <thead>\n",
       "    <tr style=\"text-align: right;\">\n",
       "      <th></th>\n",
       "      <th>OrderNumber</th>\n",
       "      <th>OrderDate</th>\n",
       "      <th>Customer Name Index</th>\n",
       "      <th>Channel</th>\n",
       "      <th>Currency Code</th>\n",
       "      <th>Warehouse Code</th>\n",
       "      <th>Delivery Region Index</th>\n",
       "      <th>Product Description Index</th>\n",
       "      <th>Order Quantity</th>\n",
       "      <th>Unit Price</th>\n",
       "      <th>Line Total</th>\n",
       "      <th>Total Unit Cost</th>\n",
       "      <th>Customer Index</th>\n",
       "      <th>Customer Names</th>\n",
       "    </tr>\n",
       "  </thead>\n",
       "  <tbody>\n",
       "    <tr>\n",
       "      <th>0</th>\n",
       "      <td>SO - 000225</td>\n",
       "      <td>2014-01-01</td>\n",
       "      <td>126</td>\n",
       "      <td>Wholesale</td>\n",
       "      <td>USD</td>\n",
       "      <td>AXW291</td>\n",
       "      <td>364</td>\n",
       "      <td>27</td>\n",
       "      <td>6</td>\n",
       "      <td>2499.1</td>\n",
       "      <td>14994.6</td>\n",
       "      <td>1824.343</td>\n",
       "      <td>126</td>\n",
       "      <td>Rhynoodle Ltd</td>\n",
       "    </tr>\n",
       "    <tr>\n",
       "      <th>1</th>\n",
       "      <td>SO - 0003378</td>\n",
       "      <td>2014-01-01</td>\n",
       "      <td>96</td>\n",
       "      <td>Distributor</td>\n",
       "      <td>USD</td>\n",
       "      <td>AXW291</td>\n",
       "      <td>488</td>\n",
       "      <td>20</td>\n",
       "      <td>11</td>\n",
       "      <td>2351.7</td>\n",
       "      <td>25868.7</td>\n",
       "      <td>1269.918</td>\n",
       "      <td>96</td>\n",
       "      <td>Thoughtmix Ltd</td>\n",
       "    </tr>\n",
       "    <tr>\n",
       "      <th>2</th>\n",
       "      <td>SO - 0005126</td>\n",
       "      <td>2014-01-01</td>\n",
       "      <td>8</td>\n",
       "      <td>Wholesale</td>\n",
       "      <td>USD</td>\n",
       "      <td>AXW291</td>\n",
       "      <td>155</td>\n",
       "      <td>26</td>\n",
       "      <td>6</td>\n",
       "      <td>978.2</td>\n",
       "      <td>5869.2</td>\n",
       "      <td>684.740</td>\n",
       "      <td>8</td>\n",
       "      <td>Amerisourc Corp</td>\n",
       "    </tr>\n",
       "    <tr>\n",
       "      <th>3</th>\n",
       "      <td>SO - 0005614</td>\n",
       "      <td>2014-01-01</td>\n",
       "      <td>42</td>\n",
       "      <td>Export</td>\n",
       "      <td>USD</td>\n",
       "      <td>AXW291</td>\n",
       "      <td>473</td>\n",
       "      <td>7</td>\n",
       "      <td>7</td>\n",
       "      <td>2338.3</td>\n",
       "      <td>16368.1</td>\n",
       "      <td>1028.852</td>\n",
       "      <td>42</td>\n",
       "      <td>Colgate-Pa Group</td>\n",
       "    </tr>\n",
       "    <tr>\n",
       "      <th>4</th>\n",
       "      <td>SO - 0005781</td>\n",
       "      <td>2014-01-01</td>\n",
       "      <td>73</td>\n",
       "      <td>Wholesale</td>\n",
       "      <td>USD</td>\n",
       "      <td>AXW291</td>\n",
       "      <td>256</td>\n",
       "      <td>8</td>\n",
       "      <td>8</td>\n",
       "      <td>2291.4</td>\n",
       "      <td>18331.2</td>\n",
       "      <td>1260.270</td>\n",
       "      <td>73</td>\n",
       "      <td>Deseret Group</td>\n",
       "    </tr>\n",
       "  </tbody>\n",
       "</table>\n",
       "</div>"
      ],
      "text/plain": [
       "    OrderNumber  OrderDate  Customer Name Index      Channel Currency Code  \\\n",
       "0   SO - 000225 2014-01-01                  126    Wholesale           USD   \n",
       "1  SO - 0003378 2014-01-01                   96  Distributor           USD   \n",
       "2  SO - 0005126 2014-01-01                    8    Wholesale           USD   \n",
       "3  SO - 0005614 2014-01-01                   42       Export           USD   \n",
       "4  SO - 0005781 2014-01-01                   73    Wholesale           USD   \n",
       "\n",
       "  Warehouse Code  Delivery Region Index  Product Description Index  \\\n",
       "0         AXW291                    364                         27   \n",
       "1         AXW291                    488                         20   \n",
       "2         AXW291                    155                         26   \n",
       "3         AXW291                    473                          7   \n",
       "4         AXW291                    256                          8   \n",
       "\n",
       "   Order Quantity  Unit Price  Line Total  Total Unit Cost  Customer Index  \\\n",
       "0               6      2499.1     14994.6         1824.343             126   \n",
       "1              11      2351.7     25868.7         1269.918              96   \n",
       "2               6       978.2      5869.2          684.740               8   \n",
       "3               7      2338.3     16368.1         1028.852              42   \n",
       "4               8      2291.4     18331.2         1260.270              73   \n",
       "\n",
       "     Customer Names  \n",
       "0     Rhynoodle Ltd  \n",
       "1    Thoughtmix Ltd  \n",
       "2   Amerisourc Corp  \n",
       "3  Colgate-Pa Group  \n",
       "4     Deseret Group  "
      ]
     },
     "execution_count": 191,
     "metadata": {},
     "output_type": "execute_result"
    }
   ],
   "source": [
    "df.head(5)"
   ]
  },
  {
   "cell_type": "code",
   "execution_count": 192,
   "id": "504b3222-8f0c-4fc4-ac88-b42961b8d428",
   "metadata": {},
   "outputs": [],
   "source": [
    "#Merge with Products\n",
    "df = df.merge(df_products,\n",
    "              how='left',\n",
    "              left_on='Product Description Index',\n",
    "              right_on='Index'\n",
    "             )"
   ]
  },
  {
   "cell_type": "code",
   "execution_count": 193,
   "id": "42cd9161-ec65-4e88-8be4-5881e81bf0e4",
   "metadata": {},
   "outputs": [
    {
     "data": {
      "text/html": [
       "<div>\n",
       "<style scoped>\n",
       "    .dataframe tbody tr th:only-of-type {\n",
       "        vertical-align: middle;\n",
       "    }\n",
       "\n",
       "    .dataframe tbody tr th {\n",
       "        vertical-align: top;\n",
       "    }\n",
       "\n",
       "    .dataframe thead th {\n",
       "        text-align: right;\n",
       "    }\n",
       "</style>\n",
       "<table border=\"1\" class=\"dataframe\">\n",
       "  <thead>\n",
       "    <tr style=\"text-align: right;\">\n",
       "      <th></th>\n",
       "      <th>OrderNumber</th>\n",
       "      <th>OrderDate</th>\n",
       "      <th>Customer Name Index</th>\n",
       "      <th>Channel</th>\n",
       "      <th>Currency Code</th>\n",
       "      <th>Warehouse Code</th>\n",
       "      <th>Delivery Region Index</th>\n",
       "      <th>Product Description Index</th>\n",
       "      <th>Order Quantity</th>\n",
       "      <th>Unit Price</th>\n",
       "      <th>Line Total</th>\n",
       "      <th>Total Unit Cost</th>\n",
       "      <th>Customer Index</th>\n",
       "      <th>Customer Names</th>\n",
       "      <th>Index</th>\n",
       "      <th>Product Name</th>\n",
       "    </tr>\n",
       "  </thead>\n",
       "  <tbody>\n",
       "    <tr>\n",
       "      <th>0</th>\n",
       "      <td>SO - 000225</td>\n",
       "      <td>2014-01-01</td>\n",
       "      <td>126</td>\n",
       "      <td>Wholesale</td>\n",
       "      <td>USD</td>\n",
       "      <td>AXW291</td>\n",
       "      <td>364</td>\n",
       "      <td>27</td>\n",
       "      <td>6</td>\n",
       "      <td>2499.1</td>\n",
       "      <td>14994.6</td>\n",
       "      <td>1824.343</td>\n",
       "      <td>126</td>\n",
       "      <td>Rhynoodle Ltd</td>\n",
       "      <td>27</td>\n",
       "      <td>Product 27</td>\n",
       "    </tr>\n",
       "    <tr>\n",
       "      <th>1</th>\n",
       "      <td>SO - 0003378</td>\n",
       "      <td>2014-01-01</td>\n",
       "      <td>96</td>\n",
       "      <td>Distributor</td>\n",
       "      <td>USD</td>\n",
       "      <td>AXW291</td>\n",
       "      <td>488</td>\n",
       "      <td>20</td>\n",
       "      <td>11</td>\n",
       "      <td>2351.7</td>\n",
       "      <td>25868.7</td>\n",
       "      <td>1269.918</td>\n",
       "      <td>96</td>\n",
       "      <td>Thoughtmix Ltd</td>\n",
       "      <td>20</td>\n",
       "      <td>Product 20</td>\n",
       "    </tr>\n",
       "    <tr>\n",
       "      <th>2</th>\n",
       "      <td>SO - 0005126</td>\n",
       "      <td>2014-01-01</td>\n",
       "      <td>8</td>\n",
       "      <td>Wholesale</td>\n",
       "      <td>USD</td>\n",
       "      <td>AXW291</td>\n",
       "      <td>155</td>\n",
       "      <td>26</td>\n",
       "      <td>6</td>\n",
       "      <td>978.2</td>\n",
       "      <td>5869.2</td>\n",
       "      <td>684.740</td>\n",
       "      <td>8</td>\n",
       "      <td>Amerisourc Corp</td>\n",
       "      <td>26</td>\n",
       "      <td>Product 26</td>\n",
       "    </tr>\n",
       "    <tr>\n",
       "      <th>3</th>\n",
       "      <td>SO - 0005614</td>\n",
       "      <td>2014-01-01</td>\n",
       "      <td>42</td>\n",
       "      <td>Export</td>\n",
       "      <td>USD</td>\n",
       "      <td>AXW291</td>\n",
       "      <td>473</td>\n",
       "      <td>7</td>\n",
       "      <td>7</td>\n",
       "      <td>2338.3</td>\n",
       "      <td>16368.1</td>\n",
       "      <td>1028.852</td>\n",
       "      <td>42</td>\n",
       "      <td>Colgate-Pa Group</td>\n",
       "      <td>7</td>\n",
       "      <td>Product 7</td>\n",
       "    </tr>\n",
       "    <tr>\n",
       "      <th>4</th>\n",
       "      <td>SO - 0005781</td>\n",
       "      <td>2014-01-01</td>\n",
       "      <td>73</td>\n",
       "      <td>Wholesale</td>\n",
       "      <td>USD</td>\n",
       "      <td>AXW291</td>\n",
       "      <td>256</td>\n",
       "      <td>8</td>\n",
       "      <td>8</td>\n",
       "      <td>2291.4</td>\n",
       "      <td>18331.2</td>\n",
       "      <td>1260.270</td>\n",
       "      <td>73</td>\n",
       "      <td>Deseret Group</td>\n",
       "      <td>8</td>\n",
       "      <td>Product 8</td>\n",
       "    </tr>\n",
       "  </tbody>\n",
       "</table>\n",
       "</div>"
      ],
      "text/plain": [
       "    OrderNumber  OrderDate  Customer Name Index      Channel Currency Code  \\\n",
       "0   SO - 000225 2014-01-01                  126    Wholesale           USD   \n",
       "1  SO - 0003378 2014-01-01                   96  Distributor           USD   \n",
       "2  SO - 0005126 2014-01-01                    8    Wholesale           USD   \n",
       "3  SO - 0005614 2014-01-01                   42       Export           USD   \n",
       "4  SO - 0005781 2014-01-01                   73    Wholesale           USD   \n",
       "\n",
       "  Warehouse Code  Delivery Region Index  Product Description Index  \\\n",
       "0         AXW291                    364                         27   \n",
       "1         AXW291                    488                         20   \n",
       "2         AXW291                    155                         26   \n",
       "3         AXW291                    473                          7   \n",
       "4         AXW291                    256                          8   \n",
       "\n",
       "   Order Quantity  Unit Price  Line Total  Total Unit Cost  Customer Index  \\\n",
       "0               6      2499.1     14994.6         1824.343             126   \n",
       "1              11      2351.7     25868.7         1269.918              96   \n",
       "2               6       978.2      5869.2          684.740               8   \n",
       "3               7      2338.3     16368.1         1028.852              42   \n",
       "4               8      2291.4     18331.2         1260.270              73   \n",
       "\n",
       "     Customer Names  Index Product Name  \n",
       "0     Rhynoodle Ltd     27   Product 27  \n",
       "1    Thoughtmix Ltd     20   Product 20  \n",
       "2   Amerisourc Corp     26   Product 26  \n",
       "3  Colgate-Pa Group      7    Product 7  \n",
       "4     Deseret Group      8    Product 8  "
      ]
     },
     "execution_count": 193,
     "metadata": {},
     "output_type": "execute_result"
    }
   ],
   "source": [
    "df.head(5)"
   ]
  },
  {
   "cell_type": "code",
   "execution_count": 194,
   "id": "4aa704c9-2460-4926-b122-c9af0b662370",
   "metadata": {},
   "outputs": [],
   "source": [
    "#Merge with Regions\n",
    "df = df.merge(df_regions,\n",
    "              how='left',\n",
    "              left_on='Delivery Region Index',\n",
    "              right_on='id'\n",
    "             )"
   ]
  },
  {
   "cell_type": "code",
   "execution_count": 195,
   "id": "bfe51f94-64db-48de-b97c-3e843d60d60f",
   "metadata": {},
   "outputs": [
    {
     "data": {
      "text/html": [
       "<div>\n",
       "<style scoped>\n",
       "    .dataframe tbody tr th:only-of-type {\n",
       "        vertical-align: middle;\n",
       "    }\n",
       "\n",
       "    .dataframe tbody tr th {\n",
       "        vertical-align: top;\n",
       "    }\n",
       "\n",
       "    .dataframe thead th {\n",
       "        text-align: right;\n",
       "    }\n",
       "</style>\n",
       "<table border=\"1\" class=\"dataframe\">\n",
       "  <thead>\n",
       "    <tr style=\"text-align: right;\">\n",
       "      <th></th>\n",
       "      <th>OrderNumber</th>\n",
       "      <th>OrderDate</th>\n",
       "      <th>Customer Name Index</th>\n",
       "      <th>Channel</th>\n",
       "      <th>Currency Code</th>\n",
       "      <th>Warehouse Code</th>\n",
       "      <th>Delivery Region Index</th>\n",
       "      <th>Product Description Index</th>\n",
       "      <th>Order Quantity</th>\n",
       "      <th>Unit Price</th>\n",
       "      <th>...</th>\n",
       "      <th>type</th>\n",
       "      <th>latitude</th>\n",
       "      <th>longitude</th>\n",
       "      <th>area_code</th>\n",
       "      <th>population</th>\n",
       "      <th>households</th>\n",
       "      <th>median_income</th>\n",
       "      <th>land_area</th>\n",
       "      <th>water_area</th>\n",
       "      <th>time_zone</th>\n",
       "    </tr>\n",
       "  </thead>\n",
       "  <tbody>\n",
       "    <tr>\n",
       "      <th>0</th>\n",
       "      <td>SO - 000225</td>\n",
       "      <td>2014-01-01</td>\n",
       "      <td>126</td>\n",
       "      <td>Wholesale</td>\n",
       "      <td>USD</td>\n",
       "      <td>AXW291</td>\n",
       "      <td>364</td>\n",
       "      <td>27</td>\n",
       "      <td>6</td>\n",
       "      <td>2499.1</td>\n",
       "      <td>...</td>\n",
       "      <td>City</td>\n",
       "      <td>32.08354</td>\n",
       "      <td>-81.09983</td>\n",
       "      <td>912</td>\n",
       "      <td>145674</td>\n",
       "      <td>52798</td>\n",
       "      <td>36466</td>\n",
       "      <td>268318796</td>\n",
       "      <td>13908113</td>\n",
       "      <td>America/New York</td>\n",
       "    </tr>\n",
       "    <tr>\n",
       "      <th>1</th>\n",
       "      <td>SO - 0003378</td>\n",
       "      <td>2014-01-01</td>\n",
       "      <td>96</td>\n",
       "      <td>Distributor</td>\n",
       "      <td>USD</td>\n",
       "      <td>AXW291</td>\n",
       "      <td>488</td>\n",
       "      <td>20</td>\n",
       "      <td>11</td>\n",
       "      <td>2351.7</td>\n",
       "      <td>...</td>\n",
       "      <td>City</td>\n",
       "      <td>39.61366</td>\n",
       "      <td>-86.10665</td>\n",
       "      <td>317</td>\n",
       "      <td>55586</td>\n",
       "      <td>20975</td>\n",
       "      <td>54176</td>\n",
       "      <td>72276415</td>\n",
       "      <td>1883</td>\n",
       "      <td>America/Indiana/Indianapolis</td>\n",
       "    </tr>\n",
       "    <tr>\n",
       "      <th>2</th>\n",
       "      <td>SO - 0005126</td>\n",
       "      <td>2014-01-01</td>\n",
       "      <td>8</td>\n",
       "      <td>Wholesale</td>\n",
       "      <td>USD</td>\n",
       "      <td>AXW291</td>\n",
       "      <td>155</td>\n",
       "      <td>26</td>\n",
       "      <td>6</td>\n",
       "      <td>978.2</td>\n",
       "      <td>...</td>\n",
       "      <td>City</td>\n",
       "      <td>37.66243</td>\n",
       "      <td>-121.87468</td>\n",
       "      <td>925</td>\n",
       "      <td>79510</td>\n",
       "      <td>26020</td>\n",
       "      <td>124759</td>\n",
       "      <td>62489257</td>\n",
       "      <td>386195</td>\n",
       "      <td>America/Los Angeles</td>\n",
       "    </tr>\n",
       "    <tr>\n",
       "      <th>3</th>\n",
       "      <td>SO - 0005614</td>\n",
       "      <td>2014-01-01</td>\n",
       "      <td>42</td>\n",
       "      <td>Export</td>\n",
       "      <td>USD</td>\n",
       "      <td>AXW291</td>\n",
       "      <td>473</td>\n",
       "      <td>7</td>\n",
       "      <td>7</td>\n",
       "      <td>2338.3</td>\n",
       "      <td>...</td>\n",
       "      <td>City</td>\n",
       "      <td>39.16533</td>\n",
       "      <td>-86.52639</td>\n",
       "      <td>812</td>\n",
       "      <td>84067</td>\n",
       "      <td>30232</td>\n",
       "      <td>30019</td>\n",
       "      <td>60221613</td>\n",
       "      <td>475857</td>\n",
       "      <td>America/Indiana/Indianapolis</td>\n",
       "    </tr>\n",
       "    <tr>\n",
       "      <th>4</th>\n",
       "      <td>SO - 0005781</td>\n",
       "      <td>2014-01-01</td>\n",
       "      <td>73</td>\n",
       "      <td>Wholesale</td>\n",
       "      <td>USD</td>\n",
       "      <td>AXW291</td>\n",
       "      <td>256</td>\n",
       "      <td>8</td>\n",
       "      <td>8</td>\n",
       "      <td>2291.4</td>\n",
       "      <td>...</td>\n",
       "      <td>Town</td>\n",
       "      <td>41.77524</td>\n",
       "      <td>-72.52443</td>\n",
       "      <td>959</td>\n",
       "      <td>58007</td>\n",
       "      <td>24141</td>\n",
       "      <td>63158</td>\n",
       "      <td>70972793</td>\n",
       "      <td>720300</td>\n",
       "      <td>America/New York</td>\n",
       "    </tr>\n",
       "  </tbody>\n",
       "</table>\n",
       "<p>5 rows × 31 columns</p>\n",
       "</div>"
      ],
      "text/plain": [
       "    OrderNumber  OrderDate  Customer Name Index      Channel Currency Code  \\\n",
       "0   SO - 000225 2014-01-01                  126    Wholesale           USD   \n",
       "1  SO - 0003378 2014-01-01                   96  Distributor           USD   \n",
       "2  SO - 0005126 2014-01-01                    8    Wholesale           USD   \n",
       "3  SO - 0005614 2014-01-01                   42       Export           USD   \n",
       "4  SO - 0005781 2014-01-01                   73    Wholesale           USD   \n",
       "\n",
       "  Warehouse Code  Delivery Region Index  Product Description Index  \\\n",
       "0         AXW291                    364                         27   \n",
       "1         AXW291                    488                         20   \n",
       "2         AXW291                    155                         26   \n",
       "3         AXW291                    473                          7   \n",
       "4         AXW291                    256                          8   \n",
       "\n",
       "   Order Quantity  Unit Price  ...  type  latitude  longitude area_code  \\\n",
       "0               6      2499.1  ...  City  32.08354  -81.09983       912   \n",
       "1              11      2351.7  ...  City  39.61366  -86.10665       317   \n",
       "2               6       978.2  ...  City  37.66243 -121.87468       925   \n",
       "3               7      2338.3  ...  City  39.16533  -86.52639       812   \n",
       "4               8      2291.4  ...  Town  41.77524  -72.52443       959   \n",
       "\n",
       "   population households  median_income  land_area water_area  \\\n",
       "0      145674      52798          36466  268318796   13908113   \n",
       "1       55586      20975          54176   72276415       1883   \n",
       "2       79510      26020         124759   62489257     386195   \n",
       "3       84067      30232          30019   60221613     475857   \n",
       "4       58007      24141          63158   70972793     720300   \n",
       "\n",
       "                      time_zone  \n",
       "0              America/New York  \n",
       "1  America/Indiana/Indianapolis  \n",
       "2           America/Los Angeles  \n",
       "3  America/Indiana/Indianapolis  \n",
       "4              America/New York  \n",
       "\n",
       "[5 rows x 31 columns]"
      ]
     },
     "execution_count": 195,
     "metadata": {},
     "output_type": "execute_result"
    }
   ],
   "source": [
    "df.head(5)"
   ]
  },
  {
   "cell_type": "code",
   "execution_count": 196,
   "id": "9073d3f9-b624-48d8-b853-141a99a22d82",
   "metadata": {},
   "outputs": [],
   "source": [
    "#Merge with State Regions\n",
    "df = df.merge(df_state_regions,\n",
    "              how='left',\n",
    "              left_on='state_code',\n",
    "              right_on='State Code'\n",
    "             )\n"
   ]
  },
  {
   "cell_type": "code",
   "execution_count": 197,
   "id": "3c570ee8-871e-4578-9efd-b11da61d04ac",
   "metadata": {},
   "outputs": [],
   "source": [
    "#Merge with Budgets\n",
    "df = df.merge(df_budgets,\n",
    "              how='left',\n",
    "              on='Product Name'\n",
    "             )"
   ]
  },
  {
   "cell_type": "code",
   "execution_count": 198,
   "id": "d94d688f-4348-488a-a195-8658da2bd2d0",
   "metadata": {},
   "outputs": [
    {
     "data": {
      "text/html": [
       "<div>\n",
       "<style scoped>\n",
       "    .dataframe tbody tr th:only-of-type {\n",
       "        vertical-align: middle;\n",
       "    }\n",
       "\n",
       "    .dataframe tbody tr th {\n",
       "        vertical-align: top;\n",
       "    }\n",
       "\n",
       "    .dataframe thead th {\n",
       "        text-align: right;\n",
       "    }\n",
       "</style>\n",
       "<table border=\"1\" class=\"dataframe\">\n",
       "  <thead>\n",
       "    <tr style=\"text-align: right;\">\n",
       "      <th></th>\n",
       "      <th>OrderNumber</th>\n",
       "      <th>OrderDate</th>\n",
       "      <th>Customer Name Index</th>\n",
       "      <th>Channel</th>\n",
       "      <th>Currency Code</th>\n",
       "      <th>Warehouse Code</th>\n",
       "      <th>Delivery Region Index</th>\n",
       "      <th>Product Description Index</th>\n",
       "      <th>Order Quantity</th>\n",
       "      <th>Unit Price</th>\n",
       "      <th>...</th>\n",
       "      <th>population</th>\n",
       "      <th>households</th>\n",
       "      <th>median_income</th>\n",
       "      <th>land_area</th>\n",
       "      <th>water_area</th>\n",
       "      <th>time_zone</th>\n",
       "      <th>State Code</th>\n",
       "      <th>State</th>\n",
       "      <th>Region</th>\n",
       "      <th>2017 Budgets</th>\n",
       "    </tr>\n",
       "  </thead>\n",
       "  <tbody>\n",
       "    <tr>\n",
       "      <th>0</th>\n",
       "      <td>SO - 000225</td>\n",
       "      <td>2014-01-01</td>\n",
       "      <td>126</td>\n",
       "      <td>Wholesale</td>\n",
       "      <td>USD</td>\n",
       "      <td>AXW291</td>\n",
       "      <td>364</td>\n",
       "      <td>27</td>\n",
       "      <td>6</td>\n",
       "      <td>2499.1</td>\n",
       "      <td>...</td>\n",
       "      <td>145674</td>\n",
       "      <td>52798</td>\n",
       "      <td>36466</td>\n",
       "      <td>268318796</td>\n",
       "      <td>13908113</td>\n",
       "      <td>America/New York</td>\n",
       "      <td>GA</td>\n",
       "      <td>Georgia</td>\n",
       "      <td>South</td>\n",
       "      <td>964940.231</td>\n",
       "    </tr>\n",
       "    <tr>\n",
       "      <th>1</th>\n",
       "      <td>SO - 0003378</td>\n",
       "      <td>2014-01-01</td>\n",
       "      <td>96</td>\n",
       "      <td>Distributor</td>\n",
       "      <td>USD</td>\n",
       "      <td>AXW291</td>\n",
       "      <td>488</td>\n",
       "      <td>20</td>\n",
       "      <td>11</td>\n",
       "      <td>2351.7</td>\n",
       "      <td>...</td>\n",
       "      <td>55586</td>\n",
       "      <td>20975</td>\n",
       "      <td>54176</td>\n",
       "      <td>72276415</td>\n",
       "      <td>1883</td>\n",
       "      <td>America/Indiana/Indianapolis</td>\n",
       "      <td>IN</td>\n",
       "      <td>Indiana</td>\n",
       "      <td>Midwest</td>\n",
       "      <td>2067108.120</td>\n",
       "    </tr>\n",
       "    <tr>\n",
       "      <th>2</th>\n",
       "      <td>SO - 0005126</td>\n",
       "      <td>2014-01-01</td>\n",
       "      <td>8</td>\n",
       "      <td>Wholesale</td>\n",
       "      <td>USD</td>\n",
       "      <td>AXW291</td>\n",
       "      <td>155</td>\n",
       "      <td>26</td>\n",
       "      <td>6</td>\n",
       "      <td>978.2</td>\n",
       "      <td>...</td>\n",
       "      <td>79510</td>\n",
       "      <td>26020</td>\n",
       "      <td>124759</td>\n",
       "      <td>62489257</td>\n",
       "      <td>386195</td>\n",
       "      <td>America/Los Angeles</td>\n",
       "      <td>CA</td>\n",
       "      <td>California</td>\n",
       "      <td>West</td>\n",
       "      <td>5685138.270</td>\n",
       "    </tr>\n",
       "    <tr>\n",
       "      <th>3</th>\n",
       "      <td>SO - 0005614</td>\n",
       "      <td>2014-01-01</td>\n",
       "      <td>42</td>\n",
       "      <td>Export</td>\n",
       "      <td>USD</td>\n",
       "      <td>AXW291</td>\n",
       "      <td>473</td>\n",
       "      <td>7</td>\n",
       "      <td>7</td>\n",
       "      <td>2338.3</td>\n",
       "      <td>...</td>\n",
       "      <td>84067</td>\n",
       "      <td>30232</td>\n",
       "      <td>30019</td>\n",
       "      <td>60221613</td>\n",
       "      <td>475857</td>\n",
       "      <td>America/Indiana/Indianapolis</td>\n",
       "      <td>IN</td>\n",
       "      <td>Indiana</td>\n",
       "      <td>Midwest</td>\n",
       "      <td>889737.555</td>\n",
       "    </tr>\n",
       "    <tr>\n",
       "      <th>4</th>\n",
       "      <td>SO - 0005781</td>\n",
       "      <td>2014-01-01</td>\n",
       "      <td>73</td>\n",
       "      <td>Wholesale</td>\n",
       "      <td>USD</td>\n",
       "      <td>AXW291</td>\n",
       "      <td>256</td>\n",
       "      <td>8</td>\n",
       "      <td>8</td>\n",
       "      <td>2291.4</td>\n",
       "      <td>...</td>\n",
       "      <td>58007</td>\n",
       "      <td>24141</td>\n",
       "      <td>63158</td>\n",
       "      <td>70972793</td>\n",
       "      <td>720300</td>\n",
       "      <td>America/New York</td>\n",
       "      <td>CT</td>\n",
       "      <td>Connecticut</td>\n",
       "      <td>Northeast</td>\n",
       "      <td>1085037.329</td>\n",
       "    </tr>\n",
       "  </tbody>\n",
       "</table>\n",
       "<p>5 rows × 35 columns</p>\n",
       "</div>"
      ],
      "text/plain": [
       "    OrderNumber  OrderDate  Customer Name Index      Channel Currency Code  \\\n",
       "0   SO - 000225 2014-01-01                  126    Wholesale           USD   \n",
       "1  SO - 0003378 2014-01-01                   96  Distributor           USD   \n",
       "2  SO - 0005126 2014-01-01                    8    Wholesale           USD   \n",
       "3  SO - 0005614 2014-01-01                   42       Export           USD   \n",
       "4  SO - 0005781 2014-01-01                   73    Wholesale           USD   \n",
       "\n",
       "  Warehouse Code  Delivery Region Index  Product Description Index  \\\n",
       "0         AXW291                    364                         27   \n",
       "1         AXW291                    488                         20   \n",
       "2         AXW291                    155                         26   \n",
       "3         AXW291                    473                          7   \n",
       "4         AXW291                    256                          8   \n",
       "\n",
       "   Order Quantity  Unit Price  ...  population  households  median_income  \\\n",
       "0               6      2499.1  ...      145674       52798          36466   \n",
       "1              11      2351.7  ...       55586       20975          54176   \n",
       "2               6       978.2  ...       79510       26020         124759   \n",
       "3               7      2338.3  ...       84067       30232          30019   \n",
       "4               8      2291.4  ...       58007       24141          63158   \n",
       "\n",
       "   land_area  water_area                     time_zone  State Code  \\\n",
       "0  268318796    13908113              America/New York          GA   \n",
       "1   72276415        1883  America/Indiana/Indianapolis          IN   \n",
       "2   62489257      386195           America/Los Angeles          CA   \n",
       "3   60221613      475857  America/Indiana/Indianapolis          IN   \n",
       "4   70972793      720300              America/New York          CT   \n",
       "\n",
       "         State     Region 2017 Budgets  \n",
       "0      Georgia      South   964940.231  \n",
       "1      Indiana    Midwest  2067108.120  \n",
       "2   California       West  5685138.270  \n",
       "3      Indiana    Midwest   889737.555  \n",
       "4  Connecticut  Northeast  1085037.329  \n",
       "\n",
       "[5 rows x 35 columns]"
      ]
     },
     "execution_count": 198,
     "metadata": {},
     "output_type": "execute_result"
    }
   ],
   "source": [
    "df.head(5)"
   ]
  },
  {
   "cell_type": "code",
   "execution_count": 199,
   "id": "c416d3e4-057d-4427-a993-252123d0ebf6",
   "metadata": {},
   "outputs": [
    {
     "data": {
      "text/html": [
       "<div>\n",
       "<style scoped>\n",
       "    .dataframe tbody tr th:only-of-type {\n",
       "        vertical-align: middle;\n",
       "    }\n",
       "\n",
       "    .dataframe tbody tr th {\n",
       "        vertical-align: top;\n",
       "    }\n",
       "\n",
       "    .dataframe thead th {\n",
       "        text-align: right;\n",
       "    }\n",
       "</style>\n",
       "<table border=\"1\" class=\"dataframe\">\n",
       "  <thead>\n",
       "    <tr style=\"text-align: right;\">\n",
       "      <th></th>\n",
       "      <th>OrderNumber</th>\n",
       "      <th>OrderDate</th>\n",
       "      <th>Customer Name Index</th>\n",
       "      <th>Channel</th>\n",
       "      <th>Currency Code</th>\n",
       "      <th>Warehouse Code</th>\n",
       "      <th>Delivery Region Index</th>\n",
       "      <th>Product Description Index</th>\n",
       "      <th>Order Quantity</th>\n",
       "      <th>Unit Price</th>\n",
       "      <th>...</th>\n",
       "      <th>longitude</th>\n",
       "      <th>area_code</th>\n",
       "      <th>population</th>\n",
       "      <th>households</th>\n",
       "      <th>median_income</th>\n",
       "      <th>land_area</th>\n",
       "      <th>water_area</th>\n",
       "      <th>time_zone</th>\n",
       "      <th>Region</th>\n",
       "      <th>2017 Budgets</th>\n",
       "    </tr>\n",
       "  </thead>\n",
       "  <tbody>\n",
       "    <tr>\n",
       "      <th>0</th>\n",
       "      <td>SO - 000225</td>\n",
       "      <td>2014-01-01</td>\n",
       "      <td>126</td>\n",
       "      <td>Wholesale</td>\n",
       "      <td>USD</td>\n",
       "      <td>AXW291</td>\n",
       "      <td>364</td>\n",
       "      <td>27</td>\n",
       "      <td>6</td>\n",
       "      <td>2499.1</td>\n",
       "      <td>...</td>\n",
       "      <td>-81.09983</td>\n",
       "      <td>912</td>\n",
       "      <td>145674</td>\n",
       "      <td>52798</td>\n",
       "      <td>36466</td>\n",
       "      <td>268318796</td>\n",
       "      <td>13908113</td>\n",
       "      <td>America/New York</td>\n",
       "      <td>South</td>\n",
       "      <td>964940.231</td>\n",
       "    </tr>\n",
       "    <tr>\n",
       "      <th>1</th>\n",
       "      <td>SO - 0003378</td>\n",
       "      <td>2014-01-01</td>\n",
       "      <td>96</td>\n",
       "      <td>Distributor</td>\n",
       "      <td>USD</td>\n",
       "      <td>AXW291</td>\n",
       "      <td>488</td>\n",
       "      <td>20</td>\n",
       "      <td>11</td>\n",
       "      <td>2351.7</td>\n",
       "      <td>...</td>\n",
       "      <td>-86.10665</td>\n",
       "      <td>317</td>\n",
       "      <td>55586</td>\n",
       "      <td>20975</td>\n",
       "      <td>54176</td>\n",
       "      <td>72276415</td>\n",
       "      <td>1883</td>\n",
       "      <td>America/Indiana/Indianapolis</td>\n",
       "      <td>Midwest</td>\n",
       "      <td>2067108.120</td>\n",
       "    </tr>\n",
       "    <tr>\n",
       "      <th>2</th>\n",
       "      <td>SO - 0005126</td>\n",
       "      <td>2014-01-01</td>\n",
       "      <td>8</td>\n",
       "      <td>Wholesale</td>\n",
       "      <td>USD</td>\n",
       "      <td>AXW291</td>\n",
       "      <td>155</td>\n",
       "      <td>26</td>\n",
       "      <td>6</td>\n",
       "      <td>978.2</td>\n",
       "      <td>...</td>\n",
       "      <td>-121.87468</td>\n",
       "      <td>925</td>\n",
       "      <td>79510</td>\n",
       "      <td>26020</td>\n",
       "      <td>124759</td>\n",
       "      <td>62489257</td>\n",
       "      <td>386195</td>\n",
       "      <td>America/Los Angeles</td>\n",
       "      <td>West</td>\n",
       "      <td>5685138.270</td>\n",
       "    </tr>\n",
       "    <tr>\n",
       "      <th>3</th>\n",
       "      <td>SO - 0005614</td>\n",
       "      <td>2014-01-01</td>\n",
       "      <td>42</td>\n",
       "      <td>Export</td>\n",
       "      <td>USD</td>\n",
       "      <td>AXW291</td>\n",
       "      <td>473</td>\n",
       "      <td>7</td>\n",
       "      <td>7</td>\n",
       "      <td>2338.3</td>\n",
       "      <td>...</td>\n",
       "      <td>-86.52639</td>\n",
       "      <td>812</td>\n",
       "      <td>84067</td>\n",
       "      <td>30232</td>\n",
       "      <td>30019</td>\n",
       "      <td>60221613</td>\n",
       "      <td>475857</td>\n",
       "      <td>America/Indiana/Indianapolis</td>\n",
       "      <td>Midwest</td>\n",
       "      <td>889737.555</td>\n",
       "    </tr>\n",
       "    <tr>\n",
       "      <th>4</th>\n",
       "      <td>SO - 0005781</td>\n",
       "      <td>2014-01-01</td>\n",
       "      <td>73</td>\n",
       "      <td>Wholesale</td>\n",
       "      <td>USD</td>\n",
       "      <td>AXW291</td>\n",
       "      <td>256</td>\n",
       "      <td>8</td>\n",
       "      <td>8</td>\n",
       "      <td>2291.4</td>\n",
       "      <td>...</td>\n",
       "      <td>-72.52443</td>\n",
       "      <td>959</td>\n",
       "      <td>58007</td>\n",
       "      <td>24141</td>\n",
       "      <td>63158</td>\n",
       "      <td>70972793</td>\n",
       "      <td>720300</td>\n",
       "      <td>America/New York</td>\n",
       "      <td>Northeast</td>\n",
       "      <td>1085037.329</td>\n",
       "    </tr>\n",
       "  </tbody>\n",
       "</table>\n",
       "<p>5 rows × 30 columns</p>\n",
       "</div>"
      ],
      "text/plain": [
       "    OrderNumber  OrderDate  Customer Name Index      Channel Currency Code  \\\n",
       "0   SO - 000225 2014-01-01                  126    Wholesale           USD   \n",
       "1  SO - 0003378 2014-01-01                   96  Distributor           USD   \n",
       "2  SO - 0005126 2014-01-01                    8    Wholesale           USD   \n",
       "3  SO - 0005614 2014-01-01                   42       Export           USD   \n",
       "4  SO - 0005781 2014-01-01                   73    Wholesale           USD   \n",
       "\n",
       "  Warehouse Code  Delivery Region Index  Product Description Index  \\\n",
       "0         AXW291                    364                         27   \n",
       "1         AXW291                    488                         20   \n",
       "2         AXW291                    155                         26   \n",
       "3         AXW291                    473                          7   \n",
       "4         AXW291                    256                          8   \n",
       "\n",
       "   Order Quantity  Unit Price  ...  longitude  area_code population  \\\n",
       "0               6      2499.1  ...  -81.09983        912     145674   \n",
       "1              11      2351.7  ...  -86.10665        317      55586   \n",
       "2               6       978.2  ... -121.87468        925      79510   \n",
       "3               7      2338.3  ...  -86.52639        812      84067   \n",
       "4               8      2291.4  ...  -72.52443        959      58007   \n",
       "\n",
       "  households median_income  land_area water_area  \\\n",
       "0      52798         36466  268318796   13908113   \n",
       "1      20975         54176   72276415       1883   \n",
       "2      26020        124759   62489257     386195   \n",
       "3      30232         30019   60221613     475857   \n",
       "4      24141         63158   70972793     720300   \n",
       "\n",
       "                      time_zone     Region  2017 Budgets  \n",
       "0              America/New York      South    964940.231  \n",
       "1  America/Indiana/Indianapolis    Midwest   2067108.120  \n",
       "2           America/Los Angeles       West   5685138.270  \n",
       "3  America/Indiana/Indianapolis    Midwest    889737.555  \n",
       "4              America/New York  Northeast   1085037.329  \n",
       "\n",
       "[5 rows x 30 columns]"
      ]
     },
     "execution_count": 199,
     "metadata": {},
     "output_type": "execute_result"
    }
   ],
   "source": [
    "#delete duplicate columns\n",
    "df.columns.values\n",
    "to_drop = ['Customer Index','id','State','Index','State Code']\n",
    "df = df.drop(columns = to_drop, errors='ignore')\n",
    "df.head(5)\n"
   ]
  },
  {
   "cell_type": "code",
   "execution_count": 200,
   "id": "8d110e2e-1870-4c84-b91c-a9686ba6e246",
   "metadata": {},
   "outputs": [
    {
     "data": {
      "text/plain": [
       "array(['ordernumber', 'orderdate', 'customer name index', 'channel',\n",
       "       'currency code', 'warehouse code', 'delivery region index',\n",
       "       'product description index', 'order quantity', 'unit price',\n",
       "       'line total', 'total unit cost', 'customer names', 'product name',\n",
       "       'name', 'county', 'state_code', 'state', 'type', 'latitude',\n",
       "       'longitude', 'area_code', 'population', 'households',\n",
       "       'median_income', 'land_area', 'water_area', 'time_zone', 'region',\n",
       "       '2017 budgets'], dtype=object)"
      ]
     },
     "execution_count": 200,
     "metadata": {},
     "output_type": "execute_result"
    }
   ],
   "source": [
    "#convert all columns to lower case\n",
    "df.columns = df.columns.str.lower()\n",
    "df.columns.values"
   ]
  },
  {
   "cell_type": "code",
   "execution_count": 201,
   "id": "b59fd375-103a-4247-9e6a-39c40490779a",
   "metadata": {},
   "outputs": [],
   "source": [
    "#Keeping only the important columns \n",
    "cols_to_keep = ['ordernumber',\n",
    "                'orderdate',\n",
    "                'customer names',\n",
    "                'channel',\n",
    "                'product name',\n",
    "                'order quantity',\n",
    "                'unit price',\n",
    "                 'line total',\n",
    "                'total unit cost',\n",
    "                'state_code',\n",
    "                'county',\n",
    "                'state',\n",
    "                'region',\n",
    "                'latitude',\n",
    "                'longitude',\n",
    "                '2017 budgets']\n",
    "                "
   ]
  },
  {
   "cell_type": "code",
   "execution_count": 202,
   "id": "3e51c222-fe08-47a3-b633-c5b879d4b51b",
   "metadata": {},
   "outputs": [
    {
     "data": {
      "text/html": [
       "<div>\n",
       "<style scoped>\n",
       "    .dataframe tbody tr th:only-of-type {\n",
       "        vertical-align: middle;\n",
       "    }\n",
       "\n",
       "    .dataframe tbody tr th {\n",
       "        vertical-align: top;\n",
       "    }\n",
       "\n",
       "    .dataframe thead th {\n",
       "        text-align: right;\n",
       "    }\n",
       "</style>\n",
       "<table border=\"1\" class=\"dataframe\">\n",
       "  <thead>\n",
       "    <tr style=\"text-align: right;\">\n",
       "      <th></th>\n",
       "      <th>ordernumber</th>\n",
       "      <th>orderdate</th>\n",
       "      <th>customer names</th>\n",
       "      <th>channel</th>\n",
       "      <th>product name</th>\n",
       "      <th>order quantity</th>\n",
       "      <th>unit price</th>\n",
       "      <th>line total</th>\n",
       "      <th>total unit cost</th>\n",
       "      <th>state_code</th>\n",
       "      <th>county</th>\n",
       "      <th>state</th>\n",
       "      <th>region</th>\n",
       "      <th>latitude</th>\n",
       "      <th>longitude</th>\n",
       "      <th>2017 budgets</th>\n",
       "    </tr>\n",
       "  </thead>\n",
       "  <tbody>\n",
       "    <tr>\n",
       "      <th>0</th>\n",
       "      <td>SO - 000225</td>\n",
       "      <td>2014-01-01</td>\n",
       "      <td>Rhynoodle Ltd</td>\n",
       "      <td>Wholesale</td>\n",
       "      <td>Product 27</td>\n",
       "      <td>6</td>\n",
       "      <td>2499.1</td>\n",
       "      <td>14994.6</td>\n",
       "      <td>1824.343</td>\n",
       "      <td>GA</td>\n",
       "      <td>Chatham County</td>\n",
       "      <td>Georgia</td>\n",
       "      <td>South</td>\n",
       "      <td>32.08354</td>\n",
       "      <td>-81.09983</td>\n",
       "      <td>964940.231</td>\n",
       "    </tr>\n",
       "    <tr>\n",
       "      <th>1</th>\n",
       "      <td>SO - 0003378</td>\n",
       "      <td>2014-01-01</td>\n",
       "      <td>Thoughtmix Ltd</td>\n",
       "      <td>Distributor</td>\n",
       "      <td>Product 20</td>\n",
       "      <td>11</td>\n",
       "      <td>2351.7</td>\n",
       "      <td>25868.7</td>\n",
       "      <td>1269.918</td>\n",
       "      <td>IN</td>\n",
       "      <td>Johnson County</td>\n",
       "      <td>Indiana</td>\n",
       "      <td>Midwest</td>\n",
       "      <td>39.61366</td>\n",
       "      <td>-86.10665</td>\n",
       "      <td>2067108.120</td>\n",
       "    </tr>\n",
       "    <tr>\n",
       "      <th>2</th>\n",
       "      <td>SO - 0005126</td>\n",
       "      <td>2014-01-01</td>\n",
       "      <td>Amerisourc Corp</td>\n",
       "      <td>Wholesale</td>\n",
       "      <td>Product 26</td>\n",
       "      <td>6</td>\n",
       "      <td>978.2</td>\n",
       "      <td>5869.2</td>\n",
       "      <td>684.740</td>\n",
       "      <td>CA</td>\n",
       "      <td>Alameda County</td>\n",
       "      <td>California</td>\n",
       "      <td>West</td>\n",
       "      <td>37.66243</td>\n",
       "      <td>-121.87468</td>\n",
       "      <td>5685138.270</td>\n",
       "    </tr>\n",
       "    <tr>\n",
       "      <th>3</th>\n",
       "      <td>SO - 0005614</td>\n",
       "      <td>2014-01-01</td>\n",
       "      <td>Colgate-Pa Group</td>\n",
       "      <td>Export</td>\n",
       "      <td>Product 7</td>\n",
       "      <td>7</td>\n",
       "      <td>2338.3</td>\n",
       "      <td>16368.1</td>\n",
       "      <td>1028.852</td>\n",
       "      <td>IN</td>\n",
       "      <td>Monroe County</td>\n",
       "      <td>Indiana</td>\n",
       "      <td>Midwest</td>\n",
       "      <td>39.16533</td>\n",
       "      <td>-86.52639</td>\n",
       "      <td>889737.555</td>\n",
       "    </tr>\n",
       "    <tr>\n",
       "      <th>4</th>\n",
       "      <td>SO - 0005781</td>\n",
       "      <td>2014-01-01</td>\n",
       "      <td>Deseret Group</td>\n",
       "      <td>Wholesale</td>\n",
       "      <td>Product 8</td>\n",
       "      <td>8</td>\n",
       "      <td>2291.4</td>\n",
       "      <td>18331.2</td>\n",
       "      <td>1260.270</td>\n",
       "      <td>CT</td>\n",
       "      <td>Hartford County</td>\n",
       "      <td>Connecticut</td>\n",
       "      <td>Northeast</td>\n",
       "      <td>41.77524</td>\n",
       "      <td>-72.52443</td>\n",
       "      <td>1085037.329</td>\n",
       "    </tr>\n",
       "  </tbody>\n",
       "</table>\n",
       "</div>"
      ],
      "text/plain": [
       "    ordernumber  orderdate    customer names      channel product name  \\\n",
       "0   SO - 000225 2014-01-01     Rhynoodle Ltd    Wholesale   Product 27   \n",
       "1  SO - 0003378 2014-01-01    Thoughtmix Ltd  Distributor   Product 20   \n",
       "2  SO - 0005126 2014-01-01   Amerisourc Corp    Wholesale   Product 26   \n",
       "3  SO - 0005614 2014-01-01  Colgate-Pa Group       Export    Product 7   \n",
       "4  SO - 0005781 2014-01-01     Deseret Group    Wholesale    Product 8   \n",
       "\n",
       "   order quantity  unit price  line total  total unit cost state_code  \\\n",
       "0               6      2499.1     14994.6         1824.343         GA   \n",
       "1              11      2351.7     25868.7         1269.918         IN   \n",
       "2               6       978.2      5869.2          684.740         CA   \n",
       "3               7      2338.3     16368.1         1028.852         IN   \n",
       "4               8      2291.4     18331.2         1260.270         CT   \n",
       "\n",
       "            county        state     region  latitude  longitude  2017 budgets  \n",
       "0   Chatham County      Georgia      South  32.08354  -81.09983    964940.231  \n",
       "1   Johnson County      Indiana    Midwest  39.61366  -86.10665   2067108.120  \n",
       "2   Alameda County   California       West  37.66243 -121.87468   5685138.270  \n",
       "3    Monroe County      Indiana    Midwest  39.16533  -86.52639    889737.555  \n",
       "4  Hartford County  Connecticut  Northeast  41.77524  -72.52443   1085037.329  "
      ]
     },
     "execution_count": 202,
     "metadata": {},
     "output_type": "execute_result"
    }
   ],
   "source": [
    "df = df[cols_to_keep]\n",
    "df.head(5)"
   ]
  },
  {
   "cell_type": "code",
   "execution_count": 203,
   "id": "d9de25d6-b0a7-4c97-a9ec-0cadbaa8298b",
   "metadata": {},
   "outputs": [
    {
     "data": {
      "text/html": [
       "<div>\n",
       "<style scoped>\n",
       "    .dataframe tbody tr th:only-of-type {\n",
       "        vertical-align: middle;\n",
       "    }\n",
       "\n",
       "    .dataframe tbody tr th {\n",
       "        vertical-align: top;\n",
       "    }\n",
       "\n",
       "    .dataframe thead th {\n",
       "        text-align: right;\n",
       "    }\n",
       "</style>\n",
       "<table border=\"1\" class=\"dataframe\">\n",
       "  <thead>\n",
       "    <tr style=\"text-align: right;\">\n",
       "      <th></th>\n",
       "      <th>orderdate</th>\n",
       "      <th>product name</th>\n",
       "      <th>revenue</th>\n",
       "      <th>budget</th>\n",
       "    </tr>\n",
       "  </thead>\n",
       "  <tbody>\n",
       "    <tr>\n",
       "      <th>0</th>\n",
       "      <td>2014-01-01</td>\n",
       "      <td>Product 27</td>\n",
       "      <td>14994.6</td>\n",
       "      <td>&lt;NA&gt;</td>\n",
       "    </tr>\n",
       "    <tr>\n",
       "      <th>1</th>\n",
       "      <td>2014-01-01</td>\n",
       "      <td>Product 20</td>\n",
       "      <td>25868.7</td>\n",
       "      <td>&lt;NA&gt;</td>\n",
       "    </tr>\n",
       "    <tr>\n",
       "      <th>2</th>\n",
       "      <td>2014-01-01</td>\n",
       "      <td>Product 26</td>\n",
       "      <td>5869.2</td>\n",
       "      <td>&lt;NA&gt;</td>\n",
       "    </tr>\n",
       "    <tr>\n",
       "      <th>3</th>\n",
       "      <td>2014-01-01</td>\n",
       "      <td>Product 7</td>\n",
       "      <td>16368.1</td>\n",
       "      <td>&lt;NA&gt;</td>\n",
       "    </tr>\n",
       "    <tr>\n",
       "      <th>4</th>\n",
       "      <td>2014-01-01</td>\n",
       "      <td>Product 8</td>\n",
       "      <td>18331.2</td>\n",
       "      <td>&lt;NA&gt;</td>\n",
       "    </tr>\n",
       "  </tbody>\n",
       "</table>\n",
       "</div>"
      ],
      "text/plain": [
       "   orderdate product name  revenue budget\n",
       "0 2014-01-01   Product 27  14994.6   <NA>\n",
       "1 2014-01-01   Product 20  25868.7   <NA>\n",
       "2 2014-01-01   Product 26   5869.2   <NA>\n",
       "3 2014-01-01    Product 7  16368.1   <NA>\n",
       "4 2014-01-01    Product 8  18331.2   <NA>"
      ]
     },
     "execution_count": 203,
     "metadata": {},
     "output_type": "execute_result"
    }
   ],
   "source": [
    "#Blank out budgets for non 2017 orders\n",
    "df.loc[df['orderdate'].dt.year!=2017,'budget']=pd.NA\n",
    "#line total is revenue\n",
    "df=df.rename(columns= {'line total':'revenue'})\n",
    "df[['orderdate', 'product name', 'revenue', 'budget']].head(5)"
   ]
  },
  {
   "cell_type": "code",
   "execution_count": 204,
   "id": "5d72ead1-7efc-4298-9327-f6754e3a02f3",
   "metadata": {},
   "outputs": [
    {
     "name": "stdout",
     "output_type": "stream",
     "text": [
      "<class 'pandas.core.frame.DataFrame'>\n",
      "RangeIndex: 64104 entries, 0 to 64103\n",
      "Data columns (total 17 columns):\n",
      " #   Column           Non-Null Count  Dtype         \n",
      "---  ------           --------------  -----         \n",
      " 0   ordernumber      64104 non-null  object        \n",
      " 1   orderdate        64104 non-null  datetime64[ns]\n",
      " 2   customer names   64104 non-null  object        \n",
      " 3   channel          64104 non-null  object        \n",
      " 4   product name     64104 non-null  object        \n",
      " 5   order quantity   64104 non-null  int64         \n",
      " 6   unit price       64104 non-null  float64       \n",
      " 7   revenue          64104 non-null  float64       \n",
      " 8   total unit cost  64104 non-null  float64       \n",
      " 9   state_code       64104 non-null  object        \n",
      " 10  county           64104 non-null  object        \n",
      " 11  state            64104 non-null  object        \n",
      " 12  region           64104 non-null  object        \n",
      " 13  latitude         64104 non-null  float64       \n",
      " 14  longitude        64104 non-null  float64       \n",
      " 15  2017 budgets     64104 non-null  float64       \n",
      " 16  budget           0 non-null      object        \n",
      "dtypes: datetime64[ns](1), float64(6), int64(1), object(9)\n",
      "memory usage: 8.3+ MB\n"
     ]
    }
   ],
   "source": [
    "df.info()"
   ]
  },
  {
   "cell_type": "code",
   "execution_count": 205,
   "id": "f53a3e9b-e3e5-4fe2-8792-3377aff01ab4",
   "metadata": {},
   "outputs": [],
   "source": [
    "#filter the dataset to include only records from year 2017\n",
    "df_2017 = df[df['orderdate'].dt.year == 2017]"
   ]
  },
  {
   "cell_type": "code",
   "execution_count": 206,
   "id": "800d5ef4-02d5-4b56-834b-5abda86ed2de",
   "metadata": {},
   "outputs": [
    {
     "data": {
      "text/plain": [
       "ordernumber            0\n",
       "orderdate              0\n",
       "customer names         0\n",
       "channel                0\n",
       "product name           0\n",
       "order quantity         0\n",
       "unit price             0\n",
       "revenue                0\n",
       "total unit cost        0\n",
       "state_code             0\n",
       "county                 0\n",
       "state                  0\n",
       "region                 0\n",
       "latitude               0\n",
       "longitude              0\n",
       "2017 budgets           0\n",
       "budget             64104\n",
       "dtype: int64"
      ]
     },
     "execution_count": 206,
     "metadata": {},
     "output_type": "execute_result"
    }
   ],
   "source": [
    "df.isnull().sum()"
   ]
  },
  {
   "cell_type": "code",
   "execution_count": 207,
   "id": "531895a1-35fa-4997-8c47-9e2cbbe0b0b1",
   "metadata": {},
   "outputs": [
    {
     "data": {
      "text/html": [
       "<div>\n",
       "<style scoped>\n",
       "    .dataframe tbody tr th:only-of-type {\n",
       "        vertical-align: middle;\n",
       "    }\n",
       "\n",
       "    .dataframe tbody tr th {\n",
       "        vertical-align: top;\n",
       "    }\n",
       "\n",
       "    .dataframe thead th {\n",
       "        text-align: right;\n",
       "    }\n",
       "</style>\n",
       "<table border=\"1\" class=\"dataframe\">\n",
       "  <thead>\n",
       "    <tr style=\"text-align: right;\">\n",
       "      <th></th>\n",
       "      <th>ordernumber</th>\n",
       "      <th>orderdate</th>\n",
       "      <th>customer names</th>\n",
       "      <th>channel</th>\n",
       "      <th>product name</th>\n",
       "      <th>order quantity</th>\n",
       "      <th>unit price</th>\n",
       "      <th>revenue</th>\n",
       "      <th>total unit cost</th>\n",
       "      <th>state_code</th>\n",
       "      <th>county</th>\n",
       "      <th>state</th>\n",
       "      <th>region</th>\n",
       "      <th>latitude</th>\n",
       "      <th>longitude</th>\n",
       "      <th>2017 budgets</th>\n",
       "      <th>budget</th>\n",
       "    </tr>\n",
       "  </thead>\n",
       "  <tbody>\n",
       "    <tr>\n",
       "      <th>0</th>\n",
       "      <td>SO - 000225</td>\n",
       "      <td>2014-01-01</td>\n",
       "      <td>Rhynoodle Ltd</td>\n",
       "      <td>Wholesale</td>\n",
       "      <td>Product 27</td>\n",
       "      <td>6</td>\n",
       "      <td>2499.1</td>\n",
       "      <td>14994.6</td>\n",
       "      <td>1824.343</td>\n",
       "      <td>GA</td>\n",
       "      <td>Chatham County</td>\n",
       "      <td>Georgia</td>\n",
       "      <td>South</td>\n",
       "      <td>32.08354</td>\n",
       "      <td>-81.09983</td>\n",
       "      <td>964940.231</td>\n",
       "      <td>&lt;NA&gt;</td>\n",
       "    </tr>\n",
       "    <tr>\n",
       "      <th>1</th>\n",
       "      <td>SO - 0003378</td>\n",
       "      <td>2014-01-01</td>\n",
       "      <td>Thoughtmix Ltd</td>\n",
       "      <td>Distributor</td>\n",
       "      <td>Product 20</td>\n",
       "      <td>11</td>\n",
       "      <td>2351.7</td>\n",
       "      <td>25868.7</td>\n",
       "      <td>1269.918</td>\n",
       "      <td>IN</td>\n",
       "      <td>Johnson County</td>\n",
       "      <td>Indiana</td>\n",
       "      <td>Midwest</td>\n",
       "      <td>39.61366</td>\n",
       "      <td>-86.10665</td>\n",
       "      <td>2067108.120</td>\n",
       "      <td>&lt;NA&gt;</td>\n",
       "    </tr>\n",
       "    <tr>\n",
       "      <th>2</th>\n",
       "      <td>SO - 0005126</td>\n",
       "      <td>2014-01-01</td>\n",
       "      <td>Amerisourc Corp</td>\n",
       "      <td>Wholesale</td>\n",
       "      <td>Product 26</td>\n",
       "      <td>6</td>\n",
       "      <td>978.2</td>\n",
       "      <td>5869.2</td>\n",
       "      <td>684.740</td>\n",
       "      <td>CA</td>\n",
       "      <td>Alameda County</td>\n",
       "      <td>California</td>\n",
       "      <td>West</td>\n",
       "      <td>37.66243</td>\n",
       "      <td>-121.87468</td>\n",
       "      <td>5685138.270</td>\n",
       "      <td>&lt;NA&gt;</td>\n",
       "    </tr>\n",
       "    <tr>\n",
       "      <th>3</th>\n",
       "      <td>SO - 0005614</td>\n",
       "      <td>2014-01-01</td>\n",
       "      <td>Colgate-Pa Group</td>\n",
       "      <td>Export</td>\n",
       "      <td>Product 7</td>\n",
       "      <td>7</td>\n",
       "      <td>2338.3</td>\n",
       "      <td>16368.1</td>\n",
       "      <td>1028.852</td>\n",
       "      <td>IN</td>\n",
       "      <td>Monroe County</td>\n",
       "      <td>Indiana</td>\n",
       "      <td>Midwest</td>\n",
       "      <td>39.16533</td>\n",
       "      <td>-86.52639</td>\n",
       "      <td>889737.555</td>\n",
       "      <td>&lt;NA&gt;</td>\n",
       "    </tr>\n",
       "    <tr>\n",
       "      <th>4</th>\n",
       "      <td>SO - 0005781</td>\n",
       "      <td>2014-01-01</td>\n",
       "      <td>Deseret Group</td>\n",
       "      <td>Wholesale</td>\n",
       "      <td>Product 8</td>\n",
       "      <td>8</td>\n",
       "      <td>2291.4</td>\n",
       "      <td>18331.2</td>\n",
       "      <td>1260.270</td>\n",
       "      <td>CT</td>\n",
       "      <td>Hartford County</td>\n",
       "      <td>Connecticut</td>\n",
       "      <td>Northeast</td>\n",
       "      <td>41.77524</td>\n",
       "      <td>-72.52443</td>\n",
       "      <td>1085037.329</td>\n",
       "      <td>&lt;NA&gt;</td>\n",
       "    </tr>\n",
       "    <tr>\n",
       "      <th>...</th>\n",
       "      <td>...</td>\n",
       "      <td>...</td>\n",
       "      <td>...</td>\n",
       "      <td>...</td>\n",
       "      <td>...</td>\n",
       "      <td>...</td>\n",
       "      <td>...</td>\n",
       "      <td>...</td>\n",
       "      <td>...</td>\n",
       "      <td>...</td>\n",
       "      <td>...</td>\n",
       "      <td>...</td>\n",
       "      <td>...</td>\n",
       "      <td>...</td>\n",
       "      <td>...</td>\n",
       "      <td>...</td>\n",
       "      <td>...</td>\n",
       "    </tr>\n",
       "    <tr>\n",
       "      <th>64099</th>\n",
       "      <td>SO - 0007573</td>\n",
       "      <td>2018-02-28</td>\n",
       "      <td>Dazzlesphe Corp</td>\n",
       "      <td>Wholesale</td>\n",
       "      <td>Product 26</td>\n",
       "      <td>12</td>\n",
       "      <td>1815.7</td>\n",
       "      <td>21788.4</td>\n",
       "      <td>980.478</td>\n",
       "      <td>PA</td>\n",
       "      <td>Bucks County</td>\n",
       "      <td>Pennsylvania</td>\n",
       "      <td>Northeast</td>\n",
       "      <td>40.15511</td>\n",
       "      <td>-74.82877</td>\n",
       "      <td>5685138.270</td>\n",
       "      <td>&lt;NA&gt;</td>\n",
       "    </tr>\n",
       "    <tr>\n",
       "      <th>64100</th>\n",
       "      <td>SO - 0007706</td>\n",
       "      <td>2018-02-28</td>\n",
       "      <td>Yombu Corp</td>\n",
       "      <td>Export</td>\n",
       "      <td>Product 21</td>\n",
       "      <td>6</td>\n",
       "      <td>864.3</td>\n",
       "      <td>5185.8</td>\n",
       "      <td>579.081</td>\n",
       "      <td>IL</td>\n",
       "      <td>Cook County</td>\n",
       "      <td>Illinois</td>\n",
       "      <td>Midwest</td>\n",
       "      <td>42.11030</td>\n",
       "      <td>-88.03424</td>\n",
       "      <td>959899.218</td>\n",
       "      <td>&lt;NA&gt;</td>\n",
       "    </tr>\n",
       "    <tr>\n",
       "      <th>64101</th>\n",
       "      <td>SO - 0007718</td>\n",
       "      <td>2018-02-28</td>\n",
       "      <td>Bath Group</td>\n",
       "      <td>Distributor</td>\n",
       "      <td>Product 13</td>\n",
       "      <td>11</td>\n",
       "      <td>3953.0</td>\n",
       "      <td>43483.0</td>\n",
       "      <td>2648.510</td>\n",
       "      <td>FL</td>\n",
       "      <td>Broward County</td>\n",
       "      <td>Florida</td>\n",
       "      <td>South</td>\n",
       "      <td>26.24453</td>\n",
       "      <td>-80.20644</td>\n",
       "      <td>3720639.645</td>\n",
       "      <td>&lt;NA&gt;</td>\n",
       "    </tr>\n",
       "    <tr>\n",
       "      <th>64102</th>\n",
       "      <td>SO - 0008084</td>\n",
       "      <td>2018-02-28</td>\n",
       "      <td>Linklinks Ltd</td>\n",
       "      <td>Distributor</td>\n",
       "      <td>Product 20</td>\n",
       "      <td>7</td>\n",
       "      <td>3959.7</td>\n",
       "      <td>27717.9</td>\n",
       "      <td>2930.178</td>\n",
       "      <td>NY</td>\n",
       "      <td>Erie County</td>\n",
       "      <td>New York</td>\n",
       "      <td>Northeast</td>\n",
       "      <td>42.91002</td>\n",
       "      <td>-78.74182</td>\n",
       "      <td>2067108.120</td>\n",
       "      <td>&lt;NA&gt;</td>\n",
       "    </tr>\n",
       "    <tr>\n",
       "      <th>64103</th>\n",
       "      <td>SO - 0008654</td>\n",
       "      <td>2018-02-28</td>\n",
       "      <td>SAFEWAY Ltd</td>\n",
       "      <td>Distributor</td>\n",
       "      <td>Product 15</td>\n",
       "      <td>8</td>\n",
       "      <td>998.3</td>\n",
       "      <td>7986.4</td>\n",
       "      <td>848.555</td>\n",
       "      <td>OR</td>\n",
       "      <td>Washington County</td>\n",
       "      <td>Oregon</td>\n",
       "      <td>West</td>\n",
       "      <td>45.48706</td>\n",
       "      <td>-122.80371</td>\n",
       "      <td>3299478.315</td>\n",
       "      <td>&lt;NA&gt;</td>\n",
       "    </tr>\n",
       "  </tbody>\n",
       "</table>\n",
       "<p>64104 rows × 17 columns</p>\n",
       "</div>"
      ],
      "text/plain": [
       "        ordernumber  orderdate    customer names      channel product name  \\\n",
       "0       SO - 000225 2014-01-01     Rhynoodle Ltd    Wholesale   Product 27   \n",
       "1      SO - 0003378 2014-01-01    Thoughtmix Ltd  Distributor   Product 20   \n",
       "2      SO - 0005126 2014-01-01   Amerisourc Corp    Wholesale   Product 26   \n",
       "3      SO - 0005614 2014-01-01  Colgate-Pa Group       Export    Product 7   \n",
       "4      SO - 0005781 2014-01-01     Deseret Group    Wholesale    Product 8   \n",
       "...             ...        ...               ...          ...          ...   \n",
       "64099  SO - 0007573 2018-02-28   Dazzlesphe Corp    Wholesale   Product 26   \n",
       "64100  SO - 0007706 2018-02-28        Yombu Corp       Export   Product 21   \n",
       "64101  SO - 0007718 2018-02-28        Bath Group  Distributor   Product 13   \n",
       "64102  SO - 0008084 2018-02-28     Linklinks Ltd  Distributor   Product 20   \n",
       "64103  SO - 0008654 2018-02-28       SAFEWAY Ltd  Distributor   Product 15   \n",
       "\n",
       "       order quantity  unit price  revenue  total unit cost state_code  \\\n",
       "0                   6      2499.1  14994.6         1824.343         GA   \n",
       "1                  11      2351.7  25868.7         1269.918         IN   \n",
       "2                   6       978.2   5869.2          684.740         CA   \n",
       "3                   7      2338.3  16368.1         1028.852         IN   \n",
       "4                   8      2291.4  18331.2         1260.270         CT   \n",
       "...               ...         ...      ...              ...        ...   \n",
       "64099              12      1815.7  21788.4          980.478         PA   \n",
       "64100               6       864.3   5185.8          579.081         IL   \n",
       "64101              11      3953.0  43483.0         2648.510         FL   \n",
       "64102               7      3959.7  27717.9         2930.178         NY   \n",
       "64103               8       998.3   7986.4          848.555         OR   \n",
       "\n",
       "                  county         state     region  latitude  longitude  \\\n",
       "0         Chatham County       Georgia      South  32.08354  -81.09983   \n",
       "1         Johnson County       Indiana    Midwest  39.61366  -86.10665   \n",
       "2         Alameda County    California       West  37.66243 -121.87468   \n",
       "3          Monroe County       Indiana    Midwest  39.16533  -86.52639   \n",
       "4        Hartford County   Connecticut  Northeast  41.77524  -72.52443   \n",
       "...                  ...           ...        ...       ...        ...   \n",
       "64099       Bucks County  Pennsylvania  Northeast  40.15511  -74.82877   \n",
       "64100        Cook County      Illinois    Midwest  42.11030  -88.03424   \n",
       "64101     Broward County       Florida      South  26.24453  -80.20644   \n",
       "64102        Erie County      New York  Northeast  42.91002  -78.74182   \n",
       "64103  Washington County        Oregon       West  45.48706 -122.80371   \n",
       "\n",
       "       2017 budgets budget  \n",
       "0        964940.231   <NA>  \n",
       "1       2067108.120   <NA>  \n",
       "2       5685138.270   <NA>  \n",
       "3        889737.555   <NA>  \n",
       "4       1085037.329   <NA>  \n",
       "...             ...    ...  \n",
       "64099   5685138.270   <NA>  \n",
       "64100    959899.218   <NA>  \n",
       "64101   3720639.645   <NA>  \n",
       "64102   2067108.120   <NA>  \n",
       "64103   3299478.315   <NA>  \n",
       "\n",
       "[64104 rows x 17 columns]"
      ]
     },
     "execution_count": 207,
     "metadata": {},
     "output_type": "execute_result"
    }
   ],
   "source": [
    "df"
   ]
  },
  {
   "cell_type": "code",
   "execution_count": 209,
   "id": "7c033057-af8e-408c-821a-a37d72cb01ba",
   "metadata": {},
   "outputs": [],
   "source": [
    "df['total cost'] = df['order quantity']*df['total unit cost']\n",
    "df['profit']=df['revenue']-df['total cost']\n",
    "df['profit pct']=df['profit']/df['revenue']*100\n",
    "df['order_month_name'] = df['orderdate'].dt.month_name()\n",
    "df['order_month_num'] = df['orderdate'].dt.month"
   ]
  },
  {
   "cell_type": "code",
   "execution_count": 210,
   "id": "af45f18e-e943-455a-9b8c-4e30580e75d8",
   "metadata": {},
   "outputs": [
    {
     "data": {
      "text/html": [
       "<div>\n",
       "<style scoped>\n",
       "    .dataframe tbody tr th:only-of-type {\n",
       "        vertical-align: middle;\n",
       "    }\n",
       "\n",
       "    .dataframe tbody tr th {\n",
       "        vertical-align: top;\n",
       "    }\n",
       "\n",
       "    .dataframe thead th {\n",
       "        text-align: right;\n",
       "    }\n",
       "</style>\n",
       "<table border=\"1\" class=\"dataframe\">\n",
       "  <thead>\n",
       "    <tr style=\"text-align: right;\">\n",
       "      <th></th>\n",
       "      <th>ordernumber</th>\n",
       "      <th>orderdate</th>\n",
       "      <th>customer names</th>\n",
       "      <th>channel</th>\n",
       "      <th>product name</th>\n",
       "      <th>order quantity</th>\n",
       "      <th>unit price</th>\n",
       "      <th>revenue</th>\n",
       "      <th>total unit cost</th>\n",
       "      <th>state_code</th>\n",
       "      <th>...</th>\n",
       "      <th>region</th>\n",
       "      <th>latitude</th>\n",
       "      <th>longitude</th>\n",
       "      <th>2017 budgets</th>\n",
       "      <th>budget</th>\n",
       "      <th>total cost</th>\n",
       "      <th>profit</th>\n",
       "      <th>profit pct</th>\n",
       "      <th>order_month_name</th>\n",
       "      <th>order_month_num</th>\n",
       "    </tr>\n",
       "  </thead>\n",
       "  <tbody>\n",
       "    <tr>\n",
       "      <th>0</th>\n",
       "      <td>SO - 000225</td>\n",
       "      <td>2014-01-01</td>\n",
       "      <td>Rhynoodle Ltd</td>\n",
       "      <td>Wholesale</td>\n",
       "      <td>Product 27</td>\n",
       "      <td>6</td>\n",
       "      <td>2499.1</td>\n",
       "      <td>14994.6</td>\n",
       "      <td>1824.343</td>\n",
       "      <td>GA</td>\n",
       "      <td>...</td>\n",
       "      <td>South</td>\n",
       "      <td>32.08354</td>\n",
       "      <td>-81.09983</td>\n",
       "      <td>964940.231</td>\n",
       "      <td>&lt;NA&gt;</td>\n",
       "      <td>10946.058</td>\n",
       "      <td>4048.542</td>\n",
       "      <td>27.0</td>\n",
       "      <td>January</td>\n",
       "      <td>1</td>\n",
       "    </tr>\n",
       "    <tr>\n",
       "      <th>1</th>\n",
       "      <td>SO - 0003378</td>\n",
       "      <td>2014-01-01</td>\n",
       "      <td>Thoughtmix Ltd</td>\n",
       "      <td>Distributor</td>\n",
       "      <td>Product 20</td>\n",
       "      <td>11</td>\n",
       "      <td>2351.7</td>\n",
       "      <td>25868.7</td>\n",
       "      <td>1269.918</td>\n",
       "      <td>IN</td>\n",
       "      <td>...</td>\n",
       "      <td>Midwest</td>\n",
       "      <td>39.61366</td>\n",
       "      <td>-86.10665</td>\n",
       "      <td>2067108.120</td>\n",
       "      <td>&lt;NA&gt;</td>\n",
       "      <td>13969.098</td>\n",
       "      <td>11899.602</td>\n",
       "      <td>46.0</td>\n",
       "      <td>January</td>\n",
       "      <td>1</td>\n",
       "    </tr>\n",
       "    <tr>\n",
       "      <th>2</th>\n",
       "      <td>SO - 0005126</td>\n",
       "      <td>2014-01-01</td>\n",
       "      <td>Amerisourc Corp</td>\n",
       "      <td>Wholesale</td>\n",
       "      <td>Product 26</td>\n",
       "      <td>6</td>\n",
       "      <td>978.2</td>\n",
       "      <td>5869.2</td>\n",
       "      <td>684.740</td>\n",
       "      <td>CA</td>\n",
       "      <td>...</td>\n",
       "      <td>West</td>\n",
       "      <td>37.66243</td>\n",
       "      <td>-121.87468</td>\n",
       "      <td>5685138.270</td>\n",
       "      <td>&lt;NA&gt;</td>\n",
       "      <td>4108.440</td>\n",
       "      <td>1760.760</td>\n",
       "      <td>30.0</td>\n",
       "      <td>January</td>\n",
       "      <td>1</td>\n",
       "    </tr>\n",
       "    <tr>\n",
       "      <th>3</th>\n",
       "      <td>SO - 0005614</td>\n",
       "      <td>2014-01-01</td>\n",
       "      <td>Colgate-Pa Group</td>\n",
       "      <td>Export</td>\n",
       "      <td>Product 7</td>\n",
       "      <td>7</td>\n",
       "      <td>2338.3</td>\n",
       "      <td>16368.1</td>\n",
       "      <td>1028.852</td>\n",
       "      <td>IN</td>\n",
       "      <td>...</td>\n",
       "      <td>Midwest</td>\n",
       "      <td>39.16533</td>\n",
       "      <td>-86.52639</td>\n",
       "      <td>889737.555</td>\n",
       "      <td>&lt;NA&gt;</td>\n",
       "      <td>7201.964</td>\n",
       "      <td>9166.136</td>\n",
       "      <td>56.0</td>\n",
       "      <td>January</td>\n",
       "      <td>1</td>\n",
       "    </tr>\n",
       "    <tr>\n",
       "      <th>4</th>\n",
       "      <td>SO - 0005781</td>\n",
       "      <td>2014-01-01</td>\n",
       "      <td>Deseret Group</td>\n",
       "      <td>Wholesale</td>\n",
       "      <td>Product 8</td>\n",
       "      <td>8</td>\n",
       "      <td>2291.4</td>\n",
       "      <td>18331.2</td>\n",
       "      <td>1260.270</td>\n",
       "      <td>CT</td>\n",
       "      <td>...</td>\n",
       "      <td>Northeast</td>\n",
       "      <td>41.77524</td>\n",
       "      <td>-72.52443</td>\n",
       "      <td>1085037.329</td>\n",
       "      <td>&lt;NA&gt;</td>\n",
       "      <td>10082.160</td>\n",
       "      <td>8249.040</td>\n",
       "      <td>45.0</td>\n",
       "      <td>January</td>\n",
       "      <td>1</td>\n",
       "    </tr>\n",
       "  </tbody>\n",
       "</table>\n",
       "<p>5 rows × 22 columns</p>\n",
       "</div>"
      ],
      "text/plain": [
       "    ordernumber  orderdate    customer names      channel product name  \\\n",
       "0   SO - 000225 2014-01-01     Rhynoodle Ltd    Wholesale   Product 27   \n",
       "1  SO - 0003378 2014-01-01    Thoughtmix Ltd  Distributor   Product 20   \n",
       "2  SO - 0005126 2014-01-01   Amerisourc Corp    Wholesale   Product 26   \n",
       "3  SO - 0005614 2014-01-01  Colgate-Pa Group       Export    Product 7   \n",
       "4  SO - 0005781 2014-01-01     Deseret Group    Wholesale    Product 8   \n",
       "\n",
       "   order quantity  unit price  revenue  total unit cost state_code  ...  \\\n",
       "0               6      2499.1  14994.6         1824.343         GA  ...   \n",
       "1              11      2351.7  25868.7         1269.918         IN  ...   \n",
       "2               6       978.2   5869.2          684.740         CA  ...   \n",
       "3               7      2338.3  16368.1         1028.852         IN  ...   \n",
       "4               8      2291.4  18331.2         1260.270         CT  ...   \n",
       "\n",
       "      region  latitude  longitude  2017 budgets  budget  total cost  \\\n",
       "0      South  32.08354  -81.09983    964940.231    <NA>   10946.058   \n",
       "1    Midwest  39.61366  -86.10665   2067108.120    <NA>   13969.098   \n",
       "2       West  37.66243 -121.87468   5685138.270    <NA>    4108.440   \n",
       "3    Midwest  39.16533  -86.52639    889737.555    <NA>    7201.964   \n",
       "4  Northeast  41.77524  -72.52443   1085037.329    <NA>   10082.160   \n",
       "\n",
       "      profit  profit pct  order_month_name  order_month_num  \n",
       "0   4048.542        27.0           January                1  \n",
       "1  11899.602        46.0           January                1  \n",
       "2   1760.760        30.0           January                1  \n",
       "3   9166.136        56.0           January                1  \n",
       "4   8249.040        45.0           January                1  \n",
       "\n",
       "[5 rows x 22 columns]"
      ]
     },
     "execution_count": 210,
     "metadata": {},
     "output_type": "execute_result"
    }
   ],
   "source": [
    "df.head(5)"
   ]
  },
  {
   "cell_type": "code",
   "execution_count": 211,
   "id": "2fb6e4a1-f28b-451f-9cc8-f365e84eca5b",
   "metadata": {},
   "outputs": [],
   "source": [
    "#EDA\n",
    "df['order month']=df['orderdate'].dt.to_period('M')\n",
    "montly_sales=df.groupby('order month')['revenue'].sum()"
   ]
  },
  {
   "cell_type": "code",
   "execution_count": 212,
   "id": "4da5f7d7-20bd-4920-873e-c253b58f8a6b",
   "metadata": {},
   "outputs": [
    {
     "data": {
      "text/plain": [
       "array(['ordernumber', 'orderdate', 'customer names', 'channel',\n",
       "       'product name', 'order quantity', 'unit price', 'revenue',\n",
       "       'total unit cost', 'state_code', 'county', 'state', 'region',\n",
       "       'latitude', 'longitude', '2017 budgets', 'budget', 'total cost',\n",
       "       'profit', 'profit pct', 'order_month_name', 'order_month_num',\n",
       "       'order month'], dtype=object)"
      ]
     },
     "execution_count": 212,
     "metadata": {},
     "output_type": "execute_result"
    }
   ],
   "source": [
    "df.columns.values"
   ]
  },
  {
   "cell_type": "code",
   "execution_count": 213,
   "id": "fca1a24d-0791-44a0-aaa4-4968a0fe4ea3",
   "metadata": {},
   "outputs": [
    {
     "data": {
      "image/png": "[encoded data removed]",
      "text/plain": [
       "<Figure size 1500x400 with 1 Axes>"
      ]
     },
     "metadata": {},
     "output_type": "display_data"
    }
   ],
   "source": [
    "\n",
    "# Convert order_date to monthly period (e.g., 2022-01, 2022-02)\n",
    "df['order month'] = df['orderdate'].dt.to_period('M')\n",
    "\n",
    "# Calculate total revenue for each month\n",
    "monthly_sales = df.groupby('order month')['revenue'].sum()\n",
    "\n",
    "# Set figure size for clarity\n",
    "plt.figure(figsize=(15,4))\n",
    "\n",
    "# Plot the monthly sales trend with circle markers and navy line\n",
    "monthly_sales.plot(marker='o', color='navy')\n",
    "\n",
    "# Scale y-axis values to millions for readability\n",
    "from matplotlib.ticker import FuncFormatter\n",
    "formatter = FuncFormatter(lambda x, pos: f'{x/1e6:.1f}M')\n",
    "plt.gca().yaxis.set_major_formatter(formatter)\n",
    "\n",
    "# Add title and axis labels\n",
    "plt.title('Monthly Sales Trend')\n",
    "plt.xlabel('Month')\n",
    "plt.ylabel('Total Revenue (Millions)')\n",
    "\n",
    "# Rotate x-axis labels for better readability\n",
    "plt.xticks(rotation=45)\n",
    "\n",
    "# Adjust layout to prevent clipping\n",
    "plt.tight_layout()\n",
    "plt.show()"
   ]
  },
  {
   "cell_type": "code",
   "execution_count": 214,
   "id": "140c7a3e-4084-409b-b6be-8e25dafe3bba",
   "metadata": {},
   "outputs": [
    {
     "name": "stderr",
     "output_type": "stream",
     "text": [
      "C:\\Users\\chinm\\AppData\\Local\\Temp\\ipykernel_13396\\1964142703.py:11: FutureWarning:\n",
      "\n",
      "\n",
      "\n",
      "Passing `palette` without assigning `hue` is deprecated and will be removed in v0.14.0. Assign the `y` variable to `hue` and set `legend=False` for the same effect.\n",
      "\n",
      "\n"
     ]
    },
    {
     "data": {
      "image/png": "[encoded data removed]",
      "text/plain": [
       "<Figure size 900x400 with 1 Axes>"
      ]
     },
     "metadata": {},
     "output_type": "display_data"
    }
   ],
   "source": [
    "# Calculate total revenue for each product and convert values to millions\n",
    "top_prod = df.groupby('product name')['revenue'].sum() / 1_000_000\n",
    "\n",
    "# Select the top 10 products by revenue\n",
    "top_prod = top_prod.nlargest(10)\n",
    "\n",
    "# Set the figure size for clarity\n",
    "plt.figure(figsize=(9, 4))\n",
    "\n",
    "# Plot a horizontal bar chart: x-axis as revenue in millions, y-axis as product names\n",
    "sns.barplot(\n",
    "    x=top_prod.values,    # X-axis: revenue values in millions\n",
    "    y=top_prod.index,     # Y-axis: product names\n",
    "    palette='viridis'     # Color palette for bars\n",
    ")\n",
    "\n",
    "# Add title and axis labels\n",
    "plt.title('Top 10 Products by Revenue (in Millions)')  # Main title\n",
    "plt.xlabel('Total Revenue (in Millions)')              # X-axis label\n",
    "plt.ylabel('Product Name')                             # Y-axis label\n",
    "\n",
    "# Adjust layout to prevent overlapping elements\n",
    "plt.tight_layout()\n",
    "\n",
    "# Display the plot\n",
    "plt.show()"
   ]
  },
  {
   "cell_type": "code",
   "execution_count": 215,
   "id": "20895fef-efaf-4ec7-ad37-dc772c23374b",
   "metadata": {},
   "outputs": [
    {
     "name": "stderr",
     "output_type": "stream",
     "text": [
      "C:\\Users\\chinm\\AppData\\Local\\Temp\\ipykernel_13396\\3881896366.py:13: FutureWarning:\n",
      "\n",
      "\n",
      "\n",
      "Passing `palette` without assigning `hue` is deprecated and will be removed in v0.14.0. Assign the `y` variable to `hue` and set `legend=False` for the same effect.\n",
      "\n",
      "\n"
     ]
    },
    {
     "data": {
      "image/png": "[encoded data removed]",
      "text/plain": [
       "<Figure size 900x400 with 1 Axes>"
      ]
     },
     "metadata": {},
     "output_type": "display_data"
    }
   ],
   "source": [
    "# 1️⃣ Compute average profit per product and take the top 10\n",
    "top_margin = (\n",
    "    df.groupby('product name')['profit']\n",
    "      .mean()                        # Calculate mean profit for each product\n",
    "      .sort_values(ascending=False)  # Sort from highest to lowest average profit\n",
    "      .head(10)                      # Keep only the top 10 products\n",
    ")\n",
    "\n",
    "# 2️⃣ Set the figure size for clarity\n",
    "plt.figure(figsize=(9, 4))\n",
    "\n",
    "# 3️⃣ Plot a horizontal bar chart\n",
    "sns.barplot(\n",
    "    x=top_margin.values,    # X-axis: average profit values\n",
    "    y=top_margin.index,     # Y-axis: product names\n",
    "    palette='viridis'       # Color palette for the bars\n",
    ")\n",
    "\n",
    "# 4️⃣ Add title and axis labels\n",
    "plt.title('Top 10 Products by Avg Profit Margin')  # Chart title\n",
    "plt.xlabel('Average Profit Margin (USD)')          # X-axis label\n",
    "plt.ylabel('Product Name')                         # Y-axis label\n",
    "\n",
    "# 5️⃣ Adjust layout to prevent clipping and show the plot\n",
    "plt.tight_layout()\n",
    "plt.show()"
   ]
  },
  {
   "cell_type": "code",
   "execution_count": 216,
   "id": "6a504815-ab30-4228-ae78-2909ca190a14",
   "metadata": {},
   "outputs": [
    {
     "data": {
      "image/png": "[encoded data removed]",
      "text/plain": [
       "<Figure size 500x500 with 1 Axes>"
      ]
     },
     "metadata": {},
     "output_type": "display_data"
    }
   ],
   "source": [
    "# Group revenue by sales channel and sort descending\n",
    "chan_sales = df.groupby('channel')['revenue'].sum().sort_values(ascending=False)\n",
    "\n",
    "# Set figure size for the pie chart\n",
    "plt.figure(figsize=(5, 5))\n",
    "\n",
    "# Plot pie chart with percentage labels and a defined start angle\n",
    "plt.pie(\n",
    "    chan_sales.values,                   # Data: revenue values per channel\n",
    "    labels=chan_sales.index,             # Labels: channel names\n",
    "    autopct='%1.1f%%',                   # Display percentages with one decimal\n",
    "    startangle=140,                      # Rotate chart so first slice starts at 140 degrees\n",
    "    colors=sns.color_palette('coolwarm') # Color palette for slices\n",
    ")\n",
    "\n",
    "# Add title for context\n",
    "plt.title('Total Sales by Channel')\n",
    "\n",
    "# Adjust layout to ensure everything fits well\n",
    "plt.tight_layout()\n",
    "\n",
    "# Display the chart\n",
    "plt.show()"
   ]
  },
  {
   "cell_type": "code",
   "execution_count": 217,
   "id": "f1d9094c-63b8-4412-aaba-486eb6aa9435",
   "metadata": {},
   "outputs": [
    {
     "data": {
      "image/png": "[encoded data removed]",
      "text/plain": [
       "<Figure size 1200x400 with 1 Axes>"
      ]
     },
     "metadata": {},
     "output_type": "display_data"
    }
   ],
   "source": [
    "\n",
    "# Calculate the total revenue for each order to get the order value\n",
    "aov = df.groupby('ordernumber')['revenue'].sum()\n",
    "\n",
    "# Set the figure size for better visibility\n",
    "plt.figure(figsize=(12, 4))\n",
    "\n",
    "# Plot a histogram of order values\n",
    "plt.hist(\n",
    "    aov,               # Data: list of order values\n",
    "    bins=50,           # Number of bins to group order values\n",
    "    color='skyblue',   # Fill color of the bars\n",
    "    edgecolor='black'  # Outline color of the bars\n",
    ")\n",
    "\n",
    "# Add title and axis labels for context\n",
    "plt.title('Distribution of Average Order Value')\n",
    "plt.xlabel('Order Value (USD)')\n",
    "plt.ylabel('Number of Orders')\n",
    "\n",
    "# Adjust layout to prevent clipping\n",
    "plt.tight_layout()\n",
    "\n",
    "# Show the plot\n",
    "plt.show()"
   ]
  },
  {
   "cell_type": "code",
   "execution_count": 218,
   "id": "ab0ed960-c133-46fc-a826-cc4f97740309",
   "metadata": {},
   "outputs": [
    {
     "data": {
      "image/png": "[encoded data removed]",
      "text/plain": [
       "<Figure size 600x400 with 1 Axes>"
      ]
     },
     "metadata": {},
     "output_type": "display_data"
    }
   ],
   "source": [
    "# Calculate profit margin percentage for each record\n",
    "df['profit_margin_pct'] = (df['profit'] / df['revenue']) * 100\n",
    "\n",
    "# Set the figure size for clarity\n",
    "plt.figure(figsize=(6,4))\n",
    "\n",
    "# Plot unit price vs. profit margin percentage\n",
    "plt.scatter(\n",
    "    df['unit price'],            # X-axis: unit price in USD\n",
    "    df['profit pct'],     # Y-axis: profit margin percentage\n",
    "    alpha=0.6,                   # Transparency level for overlapping points\n",
    "    color='green'                # Point color\n",
    ")\n",
    "\n",
    "# Add title and axis labels\n",
    "plt.title('Profit Margin % vs. Unit Price')  # Chart title\n",
    "plt.xlabel('Unit Price (USD)')                # X-axis label\n",
    "plt.ylabel('Profit Margin (%)')               # Y-axis label\n",
    "\n",
    "# Adjust layout to prevent clipping\n",
    "plt.tight_layout()\n",
    "\n",
    "# Display the plot\n",
    "plt.show()"
   ]
  },
  {
   "cell_type": "code",
   "execution_count": 219,
   "id": "4245658a-75f0-4492-98d9-de6b3437f732",
   "metadata": {},
   "outputs": [
    {
     "data": {
      "image/png": "[encoded data removed]",
      "text/plain": [
       "<Figure size 1200x400 with 1 Axes>"
      ]
     },
     "metadata": {},
     "output_type": "display_data"
    }
   ],
   "source": [
    "# Set figure size for clarity\n",
    "plt.figure(figsize=(12,4))\n",
    "\n",
    "# Create a boxplot of unit_price by product_name\n",
    "sns.boxplot(\n",
    "    data=df,\n",
    "    x='product name',   # X-axis: product categories\n",
    "    y='unit price',      # Y-axis: unit price values\n",
    "    color='g'            # Box color\n",
    ")\n",
    "\n",
    "# Add title and axis labels\n",
    "plt.title('Unit Price Distribution per Product')  # Chart title\n",
    "plt.xlabel('Product')                              # X-axis label\n",
    "plt.ylabel('Unit Price (USD)')                     # Y-axis label\n",
    "\n",
    "# Rotate x-axis labels for better readability\n",
    "plt.xticks(rotation=45, ha='right')\n",
    "\n",
    "# Adjust layout to prevent clipping of labels\n",
    "plt.tight_layout()\n",
    "\n",
    "# Display the plot\n",
    "plt.show()\n",
    "     "
   ]
  },
  {
   "cell_type": "code",
   "execution_count": 220,
   "id": "f6b29129-67db-40e4-98df-4d638dbd4935",
   "metadata": {},
   "outputs": [
    {
     "name": "stderr",
     "output_type": "stream",
     "text": [
      "C:\\Users\\chinm\\AppData\\Local\\Temp\\ipykernel_13396\\1856339677.py:12: FutureWarning:\n",
      "\n",
      "\n",
      "\n",
      "Passing `palette` without assigning `hue` is deprecated and will be removed in v0.14.0. Assign the `y` variable to `hue` and set `legend=False` for the same effect.\n",
      "\n",
      "\n"
     ]
    },
    {
     "data": {
      "image/png": "[encoded data removed]",
      "text/plain": [
       "<Figure size 1000x400 with 1 Axes>"
      ]
     },
     "metadata": {},
     "output_type": "display_data"
    }
   ],
   "source": [
    "# 1. Aggregate total sales by region (in millions)\n",
    "region_sales = (\n",
    "    df\n",
    "    .groupby('region')['revenue']\n",
    "    .sum()\n",
    "    .sort_values(ascending=False)  # so bars go top→bottom\n",
    "    / 1e6                         # convert to millions\n",
    ")\n",
    "\n",
    "# 2. Plot\n",
    "plt.figure(figsize=(10, 4))\n",
    "sns.barplot(\n",
    "    x=region_sales.values,\n",
    "    y=region_sales.index,\n",
    "    palette='Greens_r'          # dark→light green\n",
    ")\n",
    "\n",
    "# 3. Formatting\n",
    "plt.title('Total Sales by US Region', fontsize=16, pad=12)\n",
    "plt.xlabel('Total Sales (in Millions USD)', fontsize=12)\n",
    "plt.ylabel('US Region', fontsize=12)\n",
    "plt.xticks(rotation=0)\n",
    "sns.despine(left=True, bottom=True)\n",
    "\n",
    "plt.tight_layout()\n",
    "plt.show()"
   ]
  },
  {
   "cell_type": "code",
   "execution_count": 221,
   "id": "abf22fa1-dabb-4a9a-a5f5-b6b26aa01e8f",
   "metadata": {},
   "outputs": [
    {
     "data": {
      "application/vnd.plotly.v1+json": {
       "config": {
        "plotlyServerURL": "https://plot.ly"
       },
       "data": [
        {
         "coloraxis": "coloraxis",
         "customdata": [
          [
           10.697648800000001
          ],
          [
           23.3882461
          ],
          [
           9.7546908
          ],
          [
           228.785436
          ],
          [
           27.6837769
          ],
          [
           44.251228700000006
          ],
          [
           1.2485918999999999
          ],
          [
           1.6748593
          ],
          [
           90.2046795
          ],
          [
           20.726912300000002
          ],
          [
           7.080091
          ],
          [
           111.0509657
          ],
          [
           54.6016902
          ],
          [
           13.6645763
          ],
          [
           10.222002400000001
          ],
          [
           4.415434
          ],
          [
           10.9962544
          ],
          [
           1.5672841000000002
          ],
          [
           19.361780600000003
          ],
          [
           35.0119421
          ],
          [
           39.0253158
          ],
          [
           24.520928
          ],
          [
           3.3992651
          ],
          [
           16.878358600000002
          ],
          [
           3.4150704
          ],
          [
           4.9362987
          ],
          [
           12.154898800000002
          ],
          [
           2.3823659
          ],
          [
           46.8309565
          ],
          [
           4.9346103
          ],
          [
           55.53496
          ],
          [
           24.1230686
          ],
          [
           3.9399819
          ],
          [
           25.2145187
          ],
          [
           11.673343
          ],
          [
           16.1001067
          ],
          [
           19.228068699999998
          ],
          [
           3.5624101
          ],
          [
           7.3381884
          ],
          [
           1.6812243
          ],
          [
           14.1233655
          ],
          [
           84.011903
          ],
          [
           17.914393
          ],
          [
           21.3850265
          ],
          [
           28.915853300000002
          ],
          [
           14.586503
          ],
          [
           1.7698251
          ]
         ],
         "geo": "geo",
         "hovertemplate": "state=%{location}<br>Total Sales (M USD)=%{z:.2f}<extra></extra>",
         "locationmode": "USA-states",
         "locations": [
          "Alabama",
          "Arizona",
          "Arkansas",
          "California",
          "Colorado",
          "Connecticut",
          "Delaware",
          "District of Columbia",
          "Florida",
          "Georgia",
          "Idaho",
          "Illinois",
          "Indiana",
          "Iowa",
          "Kansas",
          "Kentucky",
          "Louisiana",
          "Maine",
          "Maryland",
          "Massachusetts",
          "Michigan",
          "Minnesota",
          "Mississippi",
          "Missouri",
          "Montana",
          "Nebraska",
          "Nevada",
          "New Hampshire",
          "New Jersey",
          "New Mexico",
          "New York",
          "North Carolina",
          "North Dakota",
          "Ohio",
          "Oklahoma",
          "Oregon",
          "Pennsylvania",
          "Rhode Island",
          "South Carolina",
          "South Dakota",
          "Tennessee",
          "Texas",
          "Utah",
          "Virginia",
          "Washington",
          "Wisconsin",
          "Wyoming"
         ],
         "name": "",
         "type": "choropleth",
         "z": [
          10.697648800000001,
          23.3882461,
          9.7546908,
          228.785436,
          27.6837769,
          44.251228700000006,
          1.2485918999999999,
          1.6748593,
          90.2046795,
          20.726912300000002,
          7.080091,
          111.0509657,
          54.6016902,
          13.6645763,
          10.222002400000001,
          4.415434,
          10.9962544,
          1.5672841000000002,
          19.361780600000003,
          35.0119421,
          39.0253158,
          24.520928,
          3.3992651,
          16.878358600000002,
          3.4150704,
          4.9362987,
          12.154898800000002,
          2.3823659,
          46.8309565,
          4.9346103,
          55.53496,
          24.1230686,
          3.9399819,
          25.2145187,
          11.673343,
          16.1001067,
          19.228068699999998,
          3.5624101,
          7.3381884,
          1.6812243,
          14.1233655,
          84.011903,
          17.914393,
          21.3850265,
          28.915853300000002,
          14.586503,
          1.7698251
         ]
        }
       ],
       "layout": {
        "autosize": true,
        "coloraxis": {
         "colorbar": {
          "ticksuffix": "M",
          "title": {
           "text": "Sales (M USD)"
          }
         },
         "colorscale": [
          [
           0,
           "rgb(247,251,255)"
          ],
          [
           0.125,
           "rgb(222,235,247)"
          ],
          [
           0.25,
           "rgb(198,219,239)"
          ],
          [
           0.375,
           "rgb(158,202,225)"
          ],
          [
           0.5,
           "rgb(107,174,214)"
          ],
          [
           0.625,
           "rgb(66,146,198)"
          ],
          [
           0.75,
           "rgb(33,113,181)"
          ],
          [
           0.875,
           "rgb(8,81,156)"
          ],
          [
           1,
           "rgb(8,48,107)"
          ]
         ]
        },
        "geo": {
         "center": {},
         "domain": {
          "x": [
           0,
           1
          ],
          "y": [
           0,
           1
          ]
         },
         "scope": "usa"
        },
        "legend": {
         "tracegroupgap": 0
        },
        "margin": {
         "b": 0,
         "l": 0,
         "r": 0,
         "t": 40
        },
        "template": {
         "data": {
          "bar": [
           {
            "error_x": {
             "color": "#2a3f5f"
            },
            "error_y": {
             "color": "#2a3f5f"
            },
            "marker": {
             "line": {
              "color": "#E5ECF6",
              "width": 0.5
             },
             "pattern": {
              "fillmode": "overlay",
              "size": 10,
              "solidity": 0.2
             }
            },
            "type": "bar"
           }
          ],
          "barpolar": [
           {
            "marker": {
             "line": {
              "color": "#E5ECF6",
              "width": 0.5
             },
             "pattern": {
              "fillmode": "overlay",
              "size": 10,
              "solidity": 0.2
             }
            },
            "type": "barpolar"
           }
          ],
          "carpet": [
           {
            "aaxis": {
             "endlinecolor": "#2a3f5f",
             "gridcolor": "white",
             "linecolor": "white",
             "minorgridcolor": "white",
             "startlinecolor": "#2a3f5f"
            },
            "baxis": {
             "endlinecolor": "#2a3f5f",
             "gridcolor": "white",
             "linecolor": "white",
             "minorgridcolor": "white",
             "startlinecolor": "#2a3f5f"
            },
            "type": "carpet"
           }
          ],
          "choropleth": [
           {
            "colorbar": {
             "outlinewidth": 0,
             "ticks": ""
            },
            "type": "choropleth"
           }
          ],
          "contour": [
           {
            "colorbar": {
             "outlinewidth": 0,
             "ticks": ""
            },
            "colorscale": [
             [
              0,
              "#0d0887"
             ],
             [
              0.1111111111111111,
              "#46039f"
             ],
             [
              0.2222222222222222,
              "#7201a8"
             ],
             [
              0.3333333333333333,
              "#9c179e"
             ],
             [
              0.4444444444444444,
              "#bd3786"
             ],
             [
              0.5555555555555556,
              "#d8576b"
             ],
             [
              0.6666666666666666,
              "#ed7953"
             ],
             [
              0.7777777777777778,
              "#fb9f3a"
             ],
             [
              0.8888888888888888,
              "#fdca26"
             ],
             [
              1,
              "#f0f921"
             ]
            ],
            "type": "contour"
           }
          ],
          "contourcarpet": [
           {
            "colorbar": {
             "outlinewidth": 0,
             "ticks": ""
            },
            "type": "contourcarpet"
           }
          ],
          "heatmap": [
           {
            "colorbar": {
             "outlinewidth": 0,
             "ticks": ""
            },
            "colorscale": [
             [
              0,
              "#0d0887"
             ],
             [
              0.1111111111111111,
              "#46039f"
             ],
             [
              0.2222222222222222,
              "#7201a8"
             ],
             [
              0.3333333333333333,
              "#9c179e"
             ],
             [
              0.4444444444444444,
              "#bd3786"
             ],
             [
              0.5555555555555556,
              "#d8576b"
             ],
             [
              0.6666666666666666,
              "#ed7953"
             ],
             [
              0.7777777777777778,
              "#fb9f3a"
             ],
             [
              0.8888888888888888,
              "#fdca26"
             ],
             [
              1,
              "#f0f921"
             ]
            ],
            "type": "heatmap"
           }
          ],
          "heatmapgl": [
           {
            "colorbar": {
             "outlinewidth": 0,
             "ticks": ""
            },
            "colorscale": [
             [
              0,
              "#0d0887"
             ],
             [
              0.1111111111111111,
              "#46039f"
             ],
             [
              0.2222222222222222,
              "#7201a8"
             ],
             [
              0.3333333333333333,
              "#9c179e"
             ],
             [
              0.4444444444444444,
              "#bd3786"
             ],
             [
              0.5555555555555556,
              "#d8576b"
             ],
             [
              0.6666666666666666,
              "#ed7953"
             ],
             [
              0.7777777777777778,
              "#fb9f3a"
             ],
             [
              0.8888888888888888,
              "#fdca26"
             ],
             [
              1,
              "#f0f921"
             ]
            ],
            "type": "heatmapgl"
           }
          ],
          "histogram": [
           {
            "marker": {
             "pattern": {
              "fillmode": "overlay",
              "size": 10,
              "solidity": 0.2
             }
            },
            "type": "histogram"
           }
          ],
          "histogram2d": [
           {
            "colorbar": {
             "outlinewidth": 0,
             "ticks": ""
            },
            "colorscale": [
             [
              0,
              "#0d0887"
             ],
             [
              0.1111111111111111,
              "#46039f"
             ],
             [
              0.2222222222222222,
              "#7201a8"
             ],
             [
              0.3333333333333333,
              "#9c179e"
             ],
             [
              0.4444444444444444,
              "#bd3786"
             ],
             [
              0.5555555555555556,
              "#d8576b"
             ],
             [
              0.6666666666666666,
              "#ed7953"
             ],
             [
              0.7777777777777778,
              "#fb9f3a"
             ],
             [
              0.8888888888888888,
              "#fdca26"
             ],
             [
              1,
              "#f0f921"
             ]
            ],
            "type": "histogram2d"
           }
          ],
          "histogram2dcontour": [
           {
            "colorbar": {
             "outlinewidth": 0,
             "ticks": ""
            },
            "colorscale": [
             [
              0,
              "#0d0887"
             ],
             [
              0.1111111111111111,
              "#46039f"
             ],
             [
              0.2222222222222222,
              "#7201a8"
             ],
             [
              0.3333333333333333,
              "#9c179e"
             ],
             [
              0.4444444444444444,
              "#bd3786"
             ],
             [
              0.5555555555555556,
              "#d8576b"
             ],
             [
              0.6666666666666666,
              "#ed7953"
             ],
             [
              0.7777777777777778,
              "#fb9f3a"
             ],
             [
              0.8888888888888888,
              "#fdca26"
             ],
             [
              1,
              "#f0f921"
             ]
            ],
            "type": "histogram2dcontour"
           }
          ],
          "mesh3d": [
           {
            "colorbar": {
             "outlinewidth": 0,
             "ticks": ""
            },
            "type": "mesh3d"
           }
          ],
          "parcoords": [
           {
            "line": {
             "colorbar": {
              "outlinewidth": 0,
              "ticks": ""
             }
            },
            "type": "parcoords"
           }
          ],
          "pie": [
           {
            "automargin": true,
            "type": "pie"
           }
          ],
          "scatter": [
           {
            "fillpattern": {
             "fillmode": "overlay",
             "size": 10,
             "solidity": 0.2
            },
            "type": "scatter"
           }
          ],
          "scatter3d": [
           {
            "line": {
             "colorbar": {
              "outlinewidth": 0,
              "ticks": ""
             }
            },
            "marker": {
             "colorbar": {
              "outlinewidth": 0,
              "ticks": ""
             }
            },
            "type": "scatter3d"
           }
          ],
          "scattercarpet": [
           {
            "marker": {
             "colorbar": {
              "outlinewidth": 0,
              "ticks": ""
             }
            },
            "type": "scattercarpet"
           }
          ],
          "scattergeo": [
           {
            "marker": {
             "colorbar": {
              "outlinewidth": 0,
              "ticks": ""
             }
            },
            "type": "scattergeo"
           }
          ],
          "scattergl": [
           {
            "marker": {
             "colorbar": {
              "outlinewidth": 0,
              "ticks": ""
             }
            },
            "type": "scattergl"
           }
          ],
          "scattermapbox": [
           {
            "marker": {
             "colorbar": {
              "outlinewidth": 0,
              "ticks": ""
             }
            },
            "type": "scattermapbox"
           }
          ],
          "scatterpolar": [
           {
            "marker": {
             "colorbar": {
              "outlinewidth": 0,
              "ticks": ""
             }
            },
            "type": "scatterpolar"
           }
          ],
          "scatterpolargl": [
           {
            "marker": {
             "colorbar": {
              "outlinewidth": 0,
              "ticks": ""
             }
            },
            "type": "scatterpolargl"
           }
          ],
          "scatterternary": [
           {
            "marker": {
             "colorbar": {
              "outlinewidth": 0,
              "ticks": ""
             }
            },
            "type": "scatterternary"
           }
          ],
          "surface": [
           {
            "colorbar": {
             "outlinewidth": 0,
             "ticks": ""
            },
            "colorscale": [
             [
              0,
              "#0d0887"
             ],
             [
              0.1111111111111111,
              "#46039f"
             ],
             [
              0.2222222222222222,
              "#7201a8"
             ],
             [
              0.3333333333333333,
              "#9c179e"
             ],
             [
              0.4444444444444444,
              "#bd3786"
             ],
             [
              0.5555555555555556,
              "#d8576b"
             ],
             [
              0.6666666666666666,
              "#ed7953"
             ],
             [
              0.7777777777777778,
              "#fb9f3a"
             ],
             [
              0.8888888888888888,
              "#fdca26"
             ],
             [
              1,
              "#f0f921"
             ]
            ],
            "type": "surface"
           }
          ],
          "table": [
           {
            "cells": {
             "fill": {
              "color": "#EBF0F8"
             },
             "line": {
              "color": "white"
             }
            },
            "header": {
             "fill": {
              "color": "#C8D4E3"
             },
             "line": {
              "color": "white"
             }
            },
            "type": "table"
           }
          ]
         },
         "layout": {
          "annotationdefaults": {
           "arrowcolor": "#2a3f5f",
           "arrowhead": 0,
           "arrowwidth": 1
          },
          "autotypenumbers": "strict",
          "coloraxis": {
           "colorbar": {
            "outlinewidth": 0,
            "ticks": ""
           }
          },
          "colorscale": {
           "diverging": [
            [
             0,
             "#8e0152"
            ],
            [
             0.1,
             "#c51b7d"
            ],
            [
             0.2,
             "#de77ae"
            ],
            [
             0.3,
             "#f1b6da"
            ],
            [
             0.4,
             "#fde0ef"
            ],
            [
             0.5,
             "#f7f7f7"
            ],
            [
             0.6,
             "#e6f5d0"
            ],
            [
             0.7,
             "#b8e186"
            ],
            [
             0.8,
             "#7fbc41"
            ],
            [
             0.9,
             "#4d9221"
            ],
            [
             1,
             "#276419"
            ]
           ],
           "sequential": [
            [
             0,
             "#0d0887"
            ],
            [
             0.1111111111111111,
             "#46039f"
            ],
            [
             0.2222222222222222,
             "#7201a8"
            ],
            [
             0.3333333333333333,
             "#9c179e"
            ],
            [
             0.4444444444444444,
             "#bd3786"
            ],
            [
             0.5555555555555556,
             "#d8576b"
            ],
            [
             0.6666666666666666,
             "#ed7953"
            ],
            [
             0.7777777777777778,
             "#fb9f3a"
            ],
            [
             0.8888888888888888,
             "#fdca26"
            ],
            [
             1,
             "#f0f921"
            ]
           ],
           "sequentialminus": [
            [
             0,
             "#0d0887"
            ],
            [
             0.1111111111111111,
             "#46039f"
            ],
            [
             0.2222222222222222,
             "#7201a8"
            ],
            [
             0.3333333333333333,
             "#9c179e"
            ],
            [
             0.4444444444444444,
             "#bd3786"
            ],
            [
             0.5555555555555556,
             "#d8576b"
            ],
            [
             0.6666666666666666,
             "#ed7953"
            ],
            [
             0.7777777777777778,
             "#fb9f3a"
            ],
            [
             0.8888888888888888,
             "#fdca26"
            ],
            [
             1,
             "#f0f921"
            ]
           ]
          },
          "colorway": [
           "#636efa",
           "#EF553B",
           "#00cc96",
           "#ab63fa",
           "#FFA15A",
           "#19d3f3",
           "#FF6692",
           "#B6E880",
           "#FF97FF",
           "#FECB52"
          ],
          "font": {
           "color": "#2a3f5f"
          },
          "geo": {
           "bgcolor": "white",
           "lakecolor": "white",
           "landcolor": "#E5ECF6",
           "showlakes": true,
           "showland": true,
           "subunitcolor": "white"
          },
          "hoverlabel": {
           "align": "left"
          },
          "hovermode": "closest",
          "mapbox": {
           "style": "light"
          },
          "paper_bgcolor": "white",
          "plot_bgcolor": "#E5ECF6",
          "polar": {
           "angularaxis": {
            "gridcolor": "white",
            "linecolor": "white",
            "ticks": ""
           },
           "bgcolor": "#E5ECF6",
           "radialaxis": {
            "gridcolor": "white",
            "linecolor": "white",
            "ticks": ""
           }
          },
          "scene": {
           "xaxis": {
            "backgroundcolor": "#E5ECF6",
            "gridcolor": "white",
            "gridwidth": 2,
            "linecolor": "white",
            "showbackground": true,
            "ticks": "",
            "zerolinecolor": "white"
           },
           "yaxis": {
            "backgroundcolor": "#E5ECF6",
            "gridcolor": "white",
            "gridwidth": 2,
            "linecolor": "white",
            "showbackground": true,
            "ticks": "",
            "zerolinecolor": "white"
           },
           "zaxis": {
            "backgroundcolor": "#E5ECF6",
            "gridcolor": "white",
            "gridwidth": 2,
            "linecolor": "white",
            "showbackground": true,
            "ticks": "",
            "zerolinecolor": "white"
           }
          },
          "shapedefaults": {
           "line": {
            "color": "#2a3f5f"
           }
          },
          "ternary": {
           "aaxis": {
            "gridcolor": "white",
            "linecolor": "white",
            "ticks": ""
           },
           "baxis": {
            "gridcolor": "white",
            "linecolor": "white",
            "ticks": ""
           },
           "bgcolor": "#E5ECF6",
           "caxis": {
            "gridcolor": "white",
            "linecolor": "white",
            "ticks": ""
           }
          },
          "title": {
           "x": 0.05
          },
          "xaxis": {
           "automargin": true,
           "gridcolor": "white",
           "linecolor": "white",
           "ticks": "",
           "title": {
            "standoff": 15
           },
           "zerolinecolor": "white",
           "zerolinewidth": 2
          },
          "yaxis": {
           "automargin": true,
           "gridcolor": "white",
           "linecolor": "white",
           "ticks": "",
           "title": {
            "standoff": 15
           },
           "zerolinecolor": "white",
           "zerolinewidth": 2
          }
         }
        },
        "title": {
         "text": "Total Sales by State"
        }
       }
      },
      "image/png": "[encoded data removed]",
      "text/html": [
       "<div>                            <div id=\"01228f6b-1114-44ac-9a3b-65663163fa07\" class=\"plotly-graph-div\" style=\"height:525px; width:100%;\"></div>            <script type=\"text/javascript\">                require([\"plotly\"], function(Plotly) {                    window.PLOTLYENV=window.PLOTLYENV || {};                                    if (document.getElementById(\"01228f6b-1114-44ac-9a3b-65663163fa07\")) {                    Plotly.newPlot(                        \"01228f6b-1114-44ac-9a3b-65663163fa07\",                        [{\"coloraxis\":\"coloraxis\",\"customdata\":[[10.697648800000001],[23.3882461],[9.7546908],[228.785436],[27.6837769],[44.251228700000006],[1.2485918999999999],[1.6748593],[90.2046795],[20.726912300000002],[7.080091],[111.0509657],[54.6016902],[13.6645763],[10.222002400000001],[4.415434],[10.9962544],[1.5672841000000002],[19.361780600000003],[35.0119421],[39.0253158],[24.520928],[3.3992651],[16.878358600000002],[3.4150704],[4.9362987],[12.154898800000002],[2.3823659],[46.8309565],[4.9346103],[55.53496],[24.1230686],[3.9399819],[25.2145187],[11.673343],[16.1001067],[19.228068699999998],[3.5624101],[7.3381884],[1.6812243],[14.1233655],[84.011903],[17.914393],[21.3850265],[28.915853300000002],[14.586503],[1.7698251]],\"geo\":\"geo\",\"hovertemplate\":\"state=%{location}\\u003cbr\\u003eTotal Sales (M USD)=%{z:.2f}\\u003cextra\\u003e\\u003c\\u002fextra\\u003e\",\"locationmode\":\"USA-states\",\"locations\":[\"Alabama\",\"Arizona\",\"Arkansas\",\"California\",\"Colorado\",\"Connecticut\",\"Delaware\",\"District of Columbia\",\"Florida\",\"Georgia\",\"Idaho\",\"Illinois\",\"Indiana\",\"Iowa\",\"Kansas\",\"Kentucky\",\"Louisiana\",\"Maine\",\"Maryland\",\"Massachusetts\",\"Michigan\",\"Minnesota\",\"Mississippi\",\"Missouri\",\"Montana\",\"Nebraska\",\"Nevada\",\"New Hampshire\",\"New Jersey\",\"New Mexico\",\"New York\",\"North Carolina\",\"North Dakota\",\"Ohio\",\"Oklahoma\",\"Oregon\",\"Pennsylvania\",\"Rhode Island\",\"South Carolina\",\"South Dakota\",\"Tennessee\",\"Texas\",\"Utah\",\"Virginia\",\"Washington\",\"Wisconsin\",\"Wyoming\"],\"name\":\"\",\"z\":[10.697648800000001,23.3882461,9.7546908,228.785436,27.6837769,44.251228700000006,1.2485918999999999,1.6748593,90.2046795,20.726912300000002,7.080091,111.0509657,54.6016902,13.6645763,10.222002400000001,4.415434,10.9962544,1.5672841000000002,19.361780600000003,35.0119421,39.0253158,24.520928,3.3992651,16.878358600000002,3.4150704,4.9362987,12.154898800000002,2.3823659,46.8309565,4.9346103,55.53496,24.1230686,3.9399819,25.2145187,11.673343,16.1001067,19.228068699999998,3.5624101,7.3381884,1.6812243,14.1233655,84.011903,17.914393,21.3850265,28.915853300000002,14.586503,1.7698251],\"type\":\"choropleth\"}],                        {\"template\":{\"data\":{\"histogram2dcontour\":[{\"type\":\"histogram2dcontour\",\"colorbar\":{\"outlinewidth\":0,\"ticks\":\"\"},\"colorscale\":[[0.0,\"#0d0887\"],[0.1111111111111111,\"#46039f\"],[0.2222222222222222,\"#7201a8\"],[0.3333333333333333,\"#9c179e\"],[0.4444444444444444,\"#bd3786\"],[0.5555555555555556,\"#d8576b\"],[0.6666666666666666,\"#ed7953\"],[0.7777777777777778,\"#fb9f3a\"],[0.8888888888888888,\"#fdca26\"],[1.0,\"#f0f921\"]]}],\"choropleth\":[{\"type\":\"choropleth\",\"colorbar\":{\"outlinewidth\":0,\"ticks\":\"\"}}],\"histogram2d\":[{\"type\":\"histogram2d\",\"colorbar\":{\"outlinewidth\":0,\"ticks\":\"\"},\"colorscale\":[[0.0,\"#0d0887\"],[0.1111111111111111,\"#46039f\"],[0.2222222222222222,\"#7201a8\"],[0.3333333333333333,\"#9c179e\"],[0.4444444444444444,\"#bd3786\"],[0.5555555555555556,\"#d8576b\"],[0.6666666666666666,\"#ed7953\"],[0.7777777777777778,\"#fb9f3a\"],[0.8888888888888888,\"#fdca26\"],[1.0,\"#f0f921\"]]}],\"heatmap\":[{\"type\":\"heatmap\",\"colorbar\":{\"outlinewidth\":0,\"ticks\":\"\"},\"colorscale\":[[0.0,\"#0d0887\"],[0.1111111111111111,\"#46039f\"],[0.2222222222222222,\"#7201a8\"],[0.3333333333333333,\"#9c179e\"],[0.4444444444444444,\"#bd3786\"],[0.5555555555555556,\"#d8576b\"],[0.6666666666666666,\"#ed7953\"],[0.7777777777777778,\"#fb9f3a\"],[0.8888888888888888,\"#fdca26\"],[1.0,\"#f0f921\"]]}],\"heatmapgl\":[{\"type\":\"heatmapgl\",\"colorbar\":{\"outlinewidth\":0,\"ticks\":\"\"},\"colorscale\":[[0.0,\"#0d0887\"],[0.1111111111111111,\"#46039f\"],[0.2222222222222222,\"#7201a8\"],[0.3333333333333333,\"#9c179e\"],[0.4444444444444444,\"#bd3786\"],[0.5555555555555556,\"#d8576b\"],[0.6666666666666666,\"#ed7953\"],[0.7777777777777778,\"#fb9f3a\"],[0.8888888888888888,\"#fdca26\"],[1.0,\"#f0f921\"]]}],\"contourcarpet\":[{\"type\":\"contourcarpet\",\"colorbar\":{\"outlinewidth\":0,\"ticks\":\"\"}}],\"contour\":[{\"type\":\"contour\",\"colorbar\":{\"outlinewidth\":0,\"ticks\":\"\"},\"colorscale\":[[0.0,\"#0d0887\"],[0.1111111111111111,\"#46039f\"],[0.2222222222222222,\"#7201a8\"],[0.3333333333333333,\"#9c179e\"],[0.4444444444444444,\"#bd3786\"],[0.5555555555555556,\"#d8576b\"],[0.6666666666666666,\"#ed7953\"],[0.7777777777777778,\"#fb9f3a\"],[0.8888888888888888,\"#fdca26\"],[1.0,\"#f0f921\"]]}],\"surface\":[{\"type\":\"surface\",\"colorbar\":{\"outlinewidth\":0,\"ticks\":\"\"},\"colorscale\":[[0.0,\"#0d0887\"],[0.1111111111111111,\"#46039f\"],[0.2222222222222222,\"#7201a8\"],[0.3333333333333333,\"#9c179e\"],[0.4444444444444444,\"#bd3786\"],[0.5555555555555556,\"#d8576b\"],[0.6666666666666666,\"#ed7953\"],[0.7777777777777778,\"#fb9f3a\"],[0.8888888888888888,\"#fdca26\"],[1.0,\"#f0f921\"]]}],\"mesh3d\":[{\"type\":\"mesh3d\",\"colorbar\":{\"outlinewidth\":0,\"ticks\":\"\"}}],\"scatter\":[{\"fillpattern\":{\"fillmode\":\"overlay\",\"size\":10,\"solidity\":0.2},\"type\":\"scatter\"}],\"parcoords\":[{\"type\":\"parcoords\",\"line\":{\"colorbar\":{\"outlinewidth\":0,\"ticks\":\"\"}}}],\"scatterpolargl\":[{\"type\":\"scatterpolargl\",\"marker\":{\"colorbar\":{\"outlinewidth\":0,\"ticks\":\"\"}}}],\"bar\":[{\"error_x\":{\"color\":\"#2a3f5f\"},\"error_y\":{\"color\":\"#2a3f5f\"},\"marker\":{\"line\":{\"color\":\"#E5ECF6\",\"width\":0.5},\"pattern\":{\"fillmode\":\"overlay\",\"size\":10,\"solidity\":0.2}},\"type\":\"bar\"}],\"scattergeo\":[{\"type\":\"scattergeo\",\"marker\":{\"colorbar\":{\"outlinewidth\":0,\"ticks\":\"\"}}}],\"scatterpolar\":[{\"type\":\"scatterpolar\",\"marker\":{\"colorbar\":{\"outlinewidth\":0,\"ticks\":\"\"}}}],\"histogram\":[{\"marker\":{\"pattern\":{\"fillmode\":\"overlay\",\"size\":10,\"solidity\":0.2}},\"type\":\"histogram\"}],\"scattergl\":[{\"type\":\"scattergl\",\"marker\":{\"colorbar\":{\"outlinewidth\":0,\"ticks\":\"\"}}}],\"scatter3d\":[{\"type\":\"scatter3d\",\"line\":{\"colorbar\":{\"outlinewidth\":0,\"ticks\":\"\"}},\"marker\":{\"colorbar\":{\"outlinewidth\":0,\"ticks\":\"\"}}}],\"scattermapbox\":[{\"type\":\"scattermapbox\",\"marker\":{\"colorbar\":{\"outlinewidth\":0,\"ticks\":\"\"}}}],\"scatterternary\":[{\"type\":\"scatterternary\",\"marker\":{\"colorbar\":{\"outlinewidth\":0,\"ticks\":\"\"}}}],\"scattercarpet\":[{\"type\":\"scattercarpet\",\"marker\":{\"colorbar\":{\"outlinewidth\":0,\"ticks\":\"\"}}}],\"carpet\":[{\"aaxis\":{\"endlinecolor\":\"#2a3f5f\",\"gridcolor\":\"white\",\"linecolor\":\"white\",\"minorgridcolor\":\"white\",\"startlinecolor\":\"#2a3f5f\"},\"baxis\":{\"endlinecolor\":\"#2a3f5f\",\"gridcolor\":\"white\",\"linecolor\":\"white\",\"minorgridcolor\":\"white\",\"startlinecolor\":\"#2a3f5f\"},\"type\":\"carpet\"}],\"table\":[{\"cells\":{\"fill\":{\"color\":\"#EBF0F8\"},\"line\":{\"color\":\"white\"}},\"header\":{\"fill\":{\"color\":\"#C8D4E3\"},\"line\":{\"color\":\"white\"}},\"type\":\"table\"}],\"barpolar\":[{\"marker\":{\"line\":{\"color\":\"#E5ECF6\",\"width\":0.5},\"pattern\":{\"fillmode\":\"overlay\",\"size\":10,\"solidity\":0.2}},\"type\":\"barpolar\"}],\"pie\":[{\"automargin\":true,\"type\":\"pie\"}]},\"layout\":{\"autotypenumbers\":\"strict\",\"colorway\":[\"#636efa\",\"#EF553B\",\"#00cc96\",\"#ab63fa\",\"#FFA15A\",\"#19d3f3\",\"#FF6692\",\"#B6E880\",\"#FF97FF\",\"#FECB52\"],\"font\":{\"color\":\"#2a3f5f\"},\"hovermode\":\"closest\",\"hoverlabel\":{\"align\":\"left\"},\"paper_bgcolor\":\"white\",\"plot_bgcolor\":\"#E5ECF6\",\"polar\":{\"bgcolor\":\"#E5ECF6\",\"angularaxis\":{\"gridcolor\":\"white\",\"linecolor\":\"white\",\"ticks\":\"\"},\"radialaxis\":{\"gridcolor\":\"white\",\"linecolor\":\"white\",\"ticks\":\"\"}},\"ternary\":{\"bgcolor\":\"#E5ECF6\",\"aaxis\":{\"gridcolor\":\"white\",\"linecolor\":\"white\",\"ticks\":\"\"},\"baxis\":{\"gridcolor\":\"white\",\"linecolor\":\"white\",\"ticks\":\"\"},\"caxis\":{\"gridcolor\":\"white\",\"linecolor\":\"white\",\"ticks\":\"\"}},\"coloraxis\":{\"colorbar\":{\"outlinewidth\":0,\"ticks\":\"\"}},\"colorscale\":{\"sequential\":[[0.0,\"#0d0887\"],[0.1111111111111111,\"#46039f\"],[0.2222222222222222,\"#7201a8\"],[0.3333333333333333,\"#9c179e\"],[0.4444444444444444,\"#bd3786\"],[0.5555555555555556,\"#d8576b\"],[0.6666666666666666,\"#ed7953\"],[0.7777777777777778,\"#fb9f3a\"],[0.8888888888888888,\"#fdca26\"],[1.0,\"#f0f921\"]],\"sequentialminus\":[[0.0,\"#0d0887\"],[0.1111111111111111,\"#46039f\"],[0.2222222222222222,\"#7201a8\"],[0.3333333333333333,\"#9c179e\"],[0.4444444444444444,\"#bd3786\"],[0.5555555555555556,\"#d8576b\"],[0.6666666666666666,\"#ed7953\"],[0.7777777777777778,\"#fb9f3a\"],[0.8888888888888888,\"#fdca26\"],[1.0,\"#f0f921\"]],\"diverging\":[[0,\"#8e0152\"],[0.1,\"#c51b7d\"],[0.2,\"#de77ae\"],[0.3,\"#f1b6da\"],[0.4,\"#fde0ef\"],[0.5,\"#f7f7f7\"],[0.6,\"#e6f5d0\"],[0.7,\"#b8e186\"],[0.8,\"#7fbc41\"],[0.9,\"#4d9221\"],[1,\"#276419\"]]},\"xaxis\":{\"gridcolor\":\"white\",\"linecolor\":\"white\",\"ticks\":\"\",\"title\":{\"standoff\":15},\"zerolinecolor\":\"white\",\"automargin\":true,\"zerolinewidth\":2},\"yaxis\":{\"gridcolor\":\"white\",\"linecolor\":\"white\",\"ticks\":\"\",\"title\":{\"standoff\":15},\"zerolinecolor\":\"white\",\"automargin\":true,\"zerolinewidth\":2},\"scene\":{\"xaxis\":{\"backgroundcolor\":\"#E5ECF6\",\"gridcolor\":\"white\",\"linecolor\":\"white\",\"showbackground\":true,\"ticks\":\"\",\"zerolinecolor\":\"white\",\"gridwidth\":2},\"yaxis\":{\"backgroundcolor\":\"#E5ECF6\",\"gridcolor\":\"white\",\"linecolor\":\"white\",\"showbackground\":true,\"ticks\":\"\",\"zerolinecolor\":\"white\",\"gridwidth\":2},\"zaxis\":{\"backgroundcolor\":\"#E5ECF6\",\"gridcolor\":\"white\",\"linecolor\":\"white\",\"showbackground\":true,\"ticks\":\"\",\"zerolinecolor\":\"white\",\"gridwidth\":2}},\"shapedefaults\":{\"line\":{\"color\":\"#2a3f5f\"}},\"annotationdefaults\":{\"arrowcolor\":\"#2a3f5f\",\"arrowhead\":0,\"arrowwidth\":1},\"geo\":{\"bgcolor\":\"white\",\"landcolor\":\"#E5ECF6\",\"subunitcolor\":\"white\",\"showland\":true,\"showlakes\":true,\"lakecolor\":\"white\"},\"title\":{\"x\":0.05},\"mapbox\":{\"style\":\"light\"}}},\"geo\":{\"domain\":{\"x\":[0.0,1.0],\"y\":[0.0,1.0]},\"center\":{},\"scope\":\"usa\"},\"coloraxis\":{\"colorbar\":{\"title\":{\"text\":\"Sales (M USD)\"},\"ticksuffix\":\"M\"},\"colorscale\":[[0.0,\"rgb(247,251,255)\"],[0.125,\"rgb(222,235,247)\"],[0.25,\"rgb(198,219,239)\"],[0.375,\"rgb(158,202,225)\"],[0.5,\"rgb(107,174,214)\"],[0.625,\"rgb(66,146,198)\"],[0.75,\"rgb(33,113,181)\"],[0.875,\"rgb(8,81,156)\"],[1.0,\"rgb(8,48,107)\"]]},\"legend\":{\"tracegroupgap\":0},\"margin\":{\"t\":40,\"l\":0,\"r\":0,\"b\":0},\"title\":{\"text\":\"Total Sales by State\"}},                        {\"responsive\": true}                    ).then(function(){\n",
       "                            \n",
       "var gd = document.getElementById('01228f6b-1114-44ac-9a3b-65663163fa07');\n",
       "var x = new MutationObserver(function (mutations, observer) {{\n",
       "        var display = window.getComputedStyle(gd).display;\n",
       "        if (!display || display === 'none') {{\n",
       "            console.log([gd, 'removed!']);\n",
       "            Plotly.purge(gd);\n",
       "            observer.disconnect();\n",
       "        }}\n",
       "}});\n",
       "\n",
       "// Listen for the removal of the full notebook cells\n",
       "var notebookContainer = gd.closest('#notebook-container');\n",
       "if (notebookContainer) {{\n",
       "    x.observe(notebookContainer, {childList: true});\n",
       "}}\n",
       "\n",
       "// Listen for the clearing of the current output cell\n",
       "var outputEl = gd.closest('.output');\n",
       "if (outputEl) {{\n",
       "    x.observe(outputEl, {childList: true});\n",
       "}}\n",
       "\n",
       "                        })                };                });            </script>        </div>"
      ]
     },
     "metadata": {},
     "output_type": "display_data"
    }
   ],
   "source": [
    "\n",
    "import plotly.express as px\n",
    "# 1. Aggregate revenue by state (in millions)\n",
    "state_sales = (\n",
    "    df\n",
    "    .groupby('state')['revenue']\n",
    "    .sum()\n",
    "    .reset_index()\n",
    ")\n",
    "state_sales['revenue_m'] = state_sales['revenue'] / 1e6  # convert to millions\n",
    "\n",
    "# 2. Plotly choropleth\n",
    "fig = px.choropleth(\n",
    "    state_sales,\n",
    "    locations='state',            # column with state codes\n",
    "    locationmode='USA-states',    # tells Plotly these are US states\n",
    "    color='revenue_m',\n",
    "    scope='usa',\n",
    "    labels={'revenue_m':'Total Sales (M USD)'},\n",
    "    color_continuous_scale='Blues',\n",
    "    hover_data={'revenue_m':':.2f'}  # show 2 decimals\n",
    ")\n",
    "\n",
    "# 3. Layout tuning\n",
    "fig.update_layout(\n",
    "    title_text='Total Sales by State',\n",
    "    margin=dict(l=0, r=0, t=40, b=0),\n",
    "    coloraxis_colorbar=dict(\n",
    "        title='Sales (M USD)',\n",
    "        ticksuffix='M'\n",
    "    )\n",
    ")\n",
    "\n",
    "fig.show()"
   ]
  },
  {
   "cell_type": "code",
   "execution_count": 222,
   "id": "7ea36d36-a03f-4079-9a6c-c1c406a5b767",
   "metadata": {},
   "outputs": [
    {
     "data": {
      "image/png": "[encoded data removed]",
      "text/plain": [
       "<Figure size 700x500 with 1 Axes>"
      ]
     },
     "metadata": {},
     "output_type": "display_data"
    }
   ],
   "source": [
    "# Aggregate metrics per customer\n",
    "cust_summary = df.groupby('customer names').agg(\n",
    "    total_revenue=('revenue', 'sum'),\n",
    "    total_profit=('profit', 'sum'),\n",
    "    avg_margin=('profit pct', 'mean'),\n",
    "    orders=('ordernumber', 'nunique')\n",
    ")\n",
    "\n",
    "# Convert revenue to millions\n",
    "cust_summary['total_revenue_m'] = cust_summary['total_revenue'] / 1e6\n",
    "\n",
    "plt.figure(figsize=(7, 5))\n",
    "\n",
    "# Bubble chart with revenue in millions\n",
    "sns.scatterplot(\n",
    "    data=cust_summary,\n",
    "    x='total_revenue_m',        # <-- use revenue in millions\n",
    "    y='avg_margin',\n",
    "    size='orders',\n",
    "    sizes=(20, 200),\n",
    "    alpha=0.7\n",
    ")\n",
    "\n",
    "plt.title('Customer Segmentation: Revenue vs. Profit Margin')\n",
    "plt.xlabel('Total Revenue (Million USD)')  # <-- updated label\n",
    "plt.ylabel('Avg Profit Margin (%)')\n",
    "\n",
    "plt.tight_layout()\n",
    "plt.show()\n",
    "\n",
    "     \n"
   ]
  },
  {
   "cell_type": "code",
   "execution_count": 223,
   "id": "6cc22aeb-4797-4ab1-bc76-459df21d2def",
   "metadata": {},
   "outputs": [
    {
     "data": {
      "text/html": [
       "<a href='Sales_data(EDA Exported).csv' target='_blank'>Sales_data(EDA Exported).csv</a><br>"
      ],
      "text/plain": [
       "C:\\Users\\chinm\\Sales_data(EDA Exported).csv"
      ]
     },
     "metadata": {},
     "output_type": "display_data"
    }
   ],
   "source": [
    "df.to_csv('Sales_data(EDA Exported).csv', index=False)\n",
    "from IPython.display import FileLink\n",
    "display(FileLink('Sales_data(EDA Exported).csv'))"
   ]
  },
  {
   "cell_type": "code",
   "execution_count": null,
   "id": "58c0bcdb-8095-4e70-8be4-2f634ea07fa7",
   "metadata": {},
   "outputs": [],
   "source": []
  }
 ],
 "metadata": {
  "kernelspec": {
   "display_name": "Python [conda env:base] *",
   "language": "python",
   "name": "conda-base-py"
  },
  "language_info": {
   "codemirror_mode": {
    "name": "ipython",
    "version": 3
   },
   "file_extension": ".py",
   "mimetype": "text/x-python",
   "name": "python",
   "nbconvert_exporter": "python",
   "pygments_lexer": "ipython3",
   "version": "3.12.7"
  }
 },
 "nbformat": 4,
 "nbformat_minor": 5
}
